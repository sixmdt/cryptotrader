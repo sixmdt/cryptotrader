{
 "cells": [
  {
   "cell_type": "code",
   "execution_count": 1,
   "metadata": {},
   "outputs": [],
   "source": [
    "import urllib, http.client\n",
    "import time\n",
    "import json\n",
    "# эти модули нужны для генерации подписи API\n",
    "import hmac, hashlib"
   ]
  },
  {
   "cell_type": "code",
   "execution_count": 2,
   "metadata": {},
   "outputs": [],
   "source": [
    "API_KEY ='K-3038939b9a19156293f232b73e6d2392c9799078'\n",
    "API_SECRET = 'S-c25c5229f8be56020bcd495c8adac52e02ff0c4a'\n",
    "# принцип продаж продукта(для себя, чтоб не забыть) бесплатно, но забирая 50% от прибыли ежемесячно"
   ]
  },
  {
   "cell_type": "code",
   "execution_count": 3,
   "metadata": {},
   "outputs": [],
   "source": [
    "CURRENCY_1 = 'BTC'\n",
    "CURRENCY_2 = 'RUB'\n",
    "CURRENCY_1_MIN_QUANTITY = 0.001"
   ]
  },
  {
   "cell_type": "code",
   "execution_count": 4,
   "metadata": {},
   "outputs": [],
   "source": [
    "ORDER_LIFE_TIME = 3 # минуты\n",
    "STOCK_FEE = 0.002 # комиссия == 0.2%\n",
    "AVG_PRICE_PERIOD = 15 # за какой период брать ср цену(минуты)\n",
    "CAN_SPEND = 5 # сколько тратить CUR_2 при каждой покупке CUR_1\n",
    "PROFIT_MARKUP = 0.001 # прибыль в 1%\n",
    "DEBUG = True # инфа отладки\n",
    "\n",
    "STOCK_TIME_OFFSET = 0 # если время биржи расходится с нашим\n",
    "# обращение к api\n",
    "API_URL = 'api.exmo.me'\n",
    "API_VERSION = 'v1'\n",
    "\n",
    "CURRENT_PAIR = CURRENCY_1 + '_' + CURRENCY_2\n",
    "\n",
    "\n",
    "# к1 и к2 - высокочастотная торговля, не относится к нейронке\n",
    "# научиться выстраивать коридоры, анализируя крупных игроков(или как то подстраиваться под значительно более большие V торгов объему торгов)\n",
    "# научиться выстраивать несколько корридоров\n",
    "# задуматься стоит ли делать скальпинг(1 стр)\n",
    "# \n",
    "# \n",
    "# \n",
    "# -------не нейронка-----------------\n",
    "# стр1 - для валют 2-3 эшелона - покупка нескольких монет(на сумму до 1000р(в долгосрочной перспективе)) и продажа их по достижении прибыли в 1-3%, далее - сбор информации, ожидание дампа)\n",
    "# стр2 - сделать коридор(+-1-5%), выделить центральный, если ниже центрального коридора, то получить профит в крипте, если выше - в баксах(хз, может и в иных коинах, но это уже сложно)                                            \n",
    "# # к1 - проследить среднюю цену сделки за последние 100-300 \n",
    "#      сделок и при отклонении 1-3% вниз - купить, при нормализации курса - продать\n",
    "# к2 - проследить среднюю цену сделки за последние 100-300\n",
    "#       при отклонении 1-3% вниз купить, а продать при 1-3% вверх\n",
    "# -------------нейронка----------------\n",
    "# стр1 - сделать анализ(реально это сделать просто по графикам, не привлекая парсер) валют и найти координально разные(противоположные по сути) и вывести их (пример.Dogecoin и Monero, Ripple и эфириум)\n",
    "# стр2 - анализ перспективности валюты(В конце декабря 2017 года Ripple пробил отметку в 1 доллар США за монету. К 6 января 2018 года стоимость данной крипты перевалила за 3 доллара США. Как не сложно посчитать, монета за 10 дней увеличила свою стоимость в 3 (!!!) раза(а если бы бот продал с наценкой 10%, то это дало бы - ничего))\n",
    "# стр3 - научить(по графику) нейронку выделять центральный коридор и большой в той или иной крипте, если ниже центрального коридора, то получить профит в крипте, если выше - в баксах(хз, может и в иных коинах, но это уже сложно) \n",
    "# стр4 - анализ твиттера известных бизнесменов(в т.ч. не из сферы криптовалют) и по их твитам делать прогнозы\n",
    "# к3 - нейронка + парсер на отслеживание новосей( кстати вре5мя покупки/продажи тоже лучше вычислить нейронкой\n",
    "#          если настроение +, то ждать 1-7 дней и продавать\n",
    "#          если настроение -, ждать 1-2 днея и покупать\n",
    "# к4 - аналогично к3, но в телеграмм каналах(там много инфы(годной по моей практике) о криптовалютах и (что очень важно)пампах и дампах этих валют)) \n",
    "# к5(wery hard way) - смотреть гит  репозитории валют и смотреть отличия(преимущества на уровне кода) разных валют\n",
    "# к6 - проект просмотреть проекты наподобие cbf и совместно создать стратегию о том как монетизировать их"
   ]
  },
  {
   "cell_type": "code",
   "execution_count": 5,
   "metadata": {},
   "outputs": [],
   "source": [
    "class ExmoAPI:\n",
    "#     тут всё понятно\n",
    "    def __init__(self, API_KEY, API_SECRET, API_URL = 'api.exmo.me', API_VERSION = 'v1'):\n",
    "        self.API_URL = API_URL\n",
    "        self.API_VERSION = API_VERSION\n",
    "        self.API_KEY = API_KEY\n",
    "        self.API_SECRET = bytes(API_SECRET, encoding='utf-8')\n",
    "        \n",
    "# Из строки payload получаем \"подпись\", хешируем с помощью секретного ключа API\n",
    "# sing - получаемый ключ, который будет отправлен на биржу для проверки\n",
    "    def sha512(self, data):\n",
    "        H = hmac.new(key = self.API_SECRET, digestmod = hashlib.sha512)\n",
    "        H.update(data.encode('utf-8'))\n",
    "        return H.hexdigest()\n",
    "    \n",
    "# Составляем словарь {ключ:значение} для отправки на биржу\n",
    "# пока что в нём {'nonce':2938491248715}\n",
    "\n",
    "    def api_query(self, api_method, params = {}):\n",
    "        params['nonce'] = int(round(time.time() * 1000))\n",
    "        # Переводим словарь payload в строку, в формат для отправки через GET/POST и т.п.\n",
    "        params =  urllib.parse.urlencode(params)\n",
    "\n",
    "        sign = self.sha512(params)\n",
    "        \n",
    "        # Формируем заголовки request для отправки запроса на биржу. \n",
    "        # Передается публичный ключ API и подпись, полученная с помощью hmac\n",
    "        headers = {\n",
    "            \"Content-type\": \"application/x-www-form-urlencoded\",\n",
    "            \"Key\": self.API_KEY,\n",
    "            \"Sign\": sign\n",
    "        }\n",
    "# Создаем подключение к бирже, если в течении 60 сек не удалось подключиться, обрыв соединения    \n",
    "        conn = http.client.HTTPSConnection(self.API_URL, timeout=60)\n",
    "    # После установления связи, запрашиваем переданный адрес\n",
    "    # В заголовке запроса уходят headers, в теле - payload\n",
    "        conn.request(\"POST\", \"/\" + self.API_VERSION + \"/\" + api_method, params, headers)\n",
    "         # Получаем ответ с биржи и читаем его в переменную response\n",
    "        response = conn.getresponse().read()\n",
    "        conn.close()\n",
    "        \n",
    "        try:\n",
    "            obj = json.loads(response.decode('utf-8'))\n",
    "            # Смотрим, есть ли в полученном объекте ключ \"error\"\n",
    "            if 'error' in obj and obj['error']:\n",
    "                print(obj['error'])\n",
    "                raise sys.exit()\n",
    "            return obj\n",
    "        # Если не удалось перевести полученный ответ (вернулся не JSON)\n",
    "        except json.decoder.JSONDecodeError:\n",
    "            print('Error while parsing response:', response)\n",
    "            raise sys.exit()\n",
    "     "
   ]
  },
  {
   "cell_type": "code",
   "execution_count": 6,
   "metadata": {},
   "outputs": [
    {
     "name": "stdout",
     "output_type": "stream",
     "text": [
      "('uid', 1421646)\n",
      "('reserved', {'ETH': '0', 'WAVES': '0', 'UAH': '0', 'XRP': '0', 'EUR': '0', 'DASH': '0', 'USD': '0', 'RUB': '0', 'KICK': '0', 'ETC': '0', 'BTG': '0', 'PLN': '0', 'XMR': '0', 'BCH': '0', 'BTC': '0', 'ZEC': '0', 'LTC': '0', 'USDT': '0', 'DOGE': '0'})\n",
      "('balances', {'ETH': '0', 'WAVES': '0', 'UAH': '0', 'XRP': '0', 'EUR': '0', 'DASH': '0', 'USD': '0', 'RUB': '94', 'KICK': '0', 'ETC': '0', 'BTG': '0', 'PLN': '0', 'XMR': '0', 'BCH': '0', 'BTC': '0', 'ZEC': '0', 'LTC': '0', 'USDT': '0', 'DOGE': '0'})\n",
      "('server_date', 1525519072)\n"
     ]
    }
   ],
   "source": [
    "ExmoAPI_instance = ExmoAPI(API_KEY, API_SECRET)\n",
    "# print(ExmoAPI_instance.api_query('user_info'))\n",
    "for i in ExmoAPI_instance.api_query('user_info').items():\n",
    "    print(i)\n",
    "# print(ExmoAPI_instance.api_query())"
   ]
  },
  {
   "cell_type": "code",
   "execution_count": 9,
   "metadata": {},
   "outputs": [
    {
     "data": {
      "text/plain": [
       "{'error': '', 'order_id': 798988579, 'result': True}"
      ]
     },
     "execution_count": 9,
     "metadata": {},
     "output_type": "execute_result"
    }
   ],
   "source": [
    "ExmoAPI_instance.api_query('order_create',{'pair':'BTC_RUB',\n",
    "                                           'quantity':2,\n",
    "                                           'price':10,\n",
    "                                           'type':'buy',\n",
    "                                          })"
   ]
  },
  {
   "cell_type": "code",
   "execution_count": 10,
   "metadata": {},
   "outputs": [
    {
     "data": {
      "text/plain": [
       "{'BTC_RUB': [{'amount': '20',\n",
       "   'created': '1525520733',\n",
       "   'order_id': '798988579',\n",
       "   'pair': 'BTC_RUB',\n",
       "   'price': '10',\n",
       "   'quantity': '2',\n",
       "   'type': 'buy'}]}"
      ]
     },
     "execution_count": 10,
     "metadata": {},
     "output_type": "execute_result"
    }
   ],
   "source": [
    "ExmoAPI_instance.api_query('user_open_orders')"
   ]
  }
 ],
 "metadata": {
  "kernelspec": {
   "display_name": "Python 3",
   "language": "python",
   "name": "python3"
  },
  "language_info": {
   "codemirror_mode": {
    "name": "ipython",
    "version": 3
   },
   "file_extension": ".py",
   "mimetype": "text/x-python",
   "name": "python",
   "nbconvert_exporter": "python",
   "pygments_lexer": "ipython3",
   "version": "3.5.2"
  }
 },
 "nbformat": 4,
 "nbformat_minor": 2
}
