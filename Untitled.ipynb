{
 "cells": [
  {
   "cell_type": "code",
   "execution_count": 1,
   "metadata": {},
   "outputs": [],
   "source": [
    "import urllib, http.client\n",
    "import time\n",
    "import json\n",
    "# эти модули нужны для генерации подписи API\n",
    "import hmac, hashlib"
   ]
  },
  {
   "cell_type": "code",
   "execution_count": 2,
   "metadata": {},
   "outputs": [],
   "source": [
    "API_KEY ='K-3038939b9a19156293f232b73e6d2392c9799078'\n",
    "API_SECRET = 'S-c25c5229f8be56020bcd495c8adac52e02ff0c4a'\n",
    "# принцип продаж продукта(для себя, чтоб не забыть) бесплатно, но забирая 50% от прибыли ежемесячно"
   ]
  },
  {
   "cell_type": "code",
   "execution_count": 3,
   "metadata": {},
   "outputs": [],
   "source": [
    "CURRENCY_1 = 'BTC'\n",
    "CURRENCY_2 = 'RUB'\n",
    "CURRENCY_1_MIN_QUANTITY = 0.001"
   ]
  },
  {
   "cell_type": "code",
   "execution_count": 4,
   "metadata": {},
   "outputs": [],
   "source": [
    "ORDER_LIFE_TIME = 3 # минуты\n",
    "STOCK_FEE = 0.002 # комиссия == 0.2%\n",
    "AVG_PRICE_PERIOD = 15 # за какой период брать ср цену(минуты)\n",
    "CAN_SPEND = 5 # сколько тратить CUR_2 при каждой покупке CUR_1\n",
    "PROFIT_MARKUP = 0.001 # прибыль в 1%\n",
    "DEBUG = True # инфа отладки\n",
    "\n",
    "STOCK_TIME_OFFSET = 0 # если время биржи расходится с нашим\n",
    "# обращение к api\n",
    "API_URL = 'api.exmo.me'\n",
    "API_VERSION = 'v1'\n",
    "\n",
    "CURRENT_PAIR = CURRENCY_1 + '_' + CURRENCY_2\n",
    "\n",
    "\n",
    "# к1 и к2 - высокочастотная торговля, не относится к нейронке\n",
    "# научиться выстраивать коридоры, анализируя крупных игроков(или как то подстраиваться под значительно более большие V торгов объему торгов)\n",
    "# научиться выстраивать несколько корридоров\n",
    "# задуматься стоит ли делать скальпинг(1 стр)\n",
    "# \n",
    "# \n",
    "# \n",
    "# -------не нейронка-----------------\n",
    "# стр1 - для валют 2-3 эшелона - покупка нескольких монет(на сумму до 1000р(в долгосрочной перспективе)) и продажа их по достижении прибыли в 1-3%, далее - сбор информации, ожидание дампа)\n",
    "# стр2 - сделать коридор(+-1-5%), выделить центральный, если ниже центрального коридора, то получить профит в крипте, если выше - в баксах(хз, может и в иных коинах, но это уже сложно)                                            \n",
    "# # к1 - проследить среднюю цену сделки за последние 100-300 \n",
    "#      сделок и при отклонении 1-3% вниз - купить, при нормализации курса - продать\n",
    "# к2 - проследить среднюю цену сделки за последние 100-300\n",
    "#       при отклонении 1-3% вниз купить, а продать при 1-3% вверх\n",
    "# -------------нейронка----------------\n",
    "# стр1 - сделать анализ(реально это сделать просто по графикам, не привлекая парсер) валют и найти координально разные(противоположные по сути) и вывести их (пример.Dogecoin и Monero, Ripple и эфириум)\n",
    "# стр2 - анализ перспективности валюты(В конце декабря 2017 года Ripple пробил отметку в 1 доллар США за монету. К 6 января 2018 года стоимость данной крипты перевалила за 3 доллара США. Как не сложно посчитать, монета за 10 дней увеличила свою стоимость в 3 (!!!) раза(а если бы бот продал с наценкой 10%, то это дало бы - ничего))\n",
    "# стр3 - научить(по графику) нейронку выделять центральный коридор и большой в той или иной крипте, если ниже центрального коридора, то получить профит в крипте, если выше - в баксах(хз, может и в иных коинах, но это уже сложно) \n",
    "# стр4 - анализ твиттера известных бизнесменов(в т.ч. не из сферы криптовалют) и по их твитам делать прогнозы\n",
    "# к3 - нейронка + парсер на отслеживание новосей( кстати вре5мя покупки/продажи тоже лучше вычислить нейронкой\n",
    "#          если настроение +, то ждать 1-7 дней и продавать\n",
    "#          если настроение -, ждать 1-2 днея и покупать\n",
    "# к4 - аналогично к3, но в телеграмм каналах(там много инфы(годной по моей практике) о криптовалютах и (что очень важно)пампах и дампах этих валют)) \n",
    "# к5(wery hard way) - смотреть гит  репозитории валют и смотреть отличия(преимущества на уровне кода) разных валют\n",
    "# к6 - проект просмотреть проекты наподобие cbf и совместно создать стратегию о том как монетизировать их\n",
    "# к7 - статьи из raddit"
   ]
  },
  {
   "cell_type": "code",
   "execution_count": 5,
   "metadata": {},
   "outputs": [],
   "source": [
    "class ExmoAPI:\n",
    "#     тут всё понятно\n",
    "    def __init__(self, API_KEY, API_SECRET, API_URL = 'api.exmo.me', API_VERSION = 'v1'):\n",
    "        self.API_URL = API_URL\n",
    "        self.API_VERSION = API_VERSION\n",
    "        self.API_KEY = API_KEY\n",
    "        self.API_SECRET = bytes(API_SECRET, encoding='utf-8')\n",
    "        \n",
    "# Из строки payload получаем \"подпись\", хешируем с помощью секретного ключа API\n",
    "# sing - получаемый ключ, который будет отправлен на биржу для проверки\n",
    "    def sha512(self, data):\n",
    "        H = hmac.new(key = self.API_SECRET, digestmod = hashlib.sha512)\n",
    "        H.update(data.encode('utf-8'))\n",
    "        return H.hexdigest()\n",
    "    \n",
    "# Составляем словарь {ключ:значение} для отправки на биржу\n",
    "# пока что в нём {'nonce':2938491248715}\n",
    "\n",
    "    def api_query(self, api_method, params = {}):\n",
    "        params['nonce'] = int(round(time.time() * 1000))\n",
    "        # Переводим словарь payload в строку, в формат для отправки через GET/POST и т.п.\n",
    "        params =  urllib.parse.urlencode(params)\n",
    "\n",
    "        sign = self.sha512(params)\n",
    "        \n",
    "        # Формируем заголовки request для отправки запроса на биржу. \n",
    "        # Передается публичный ключ API и подпись, полученная с помощью hmac\n",
    "        headers = {\n",
    "            \"Content-type\": \"application/x-www-form-urlencoded\",\n",
    "            \"Key\": self.API_KEY,\n",
    "            \"Sign\": sign\n",
    "        }\n",
    "# Создаем подключение к бирже, если в течении 60 сек не удалось подключиться, обрыв соединения    \n",
    "        conn = http.client.HTTPSConnection(self.API_URL, timeout=60)\n",
    "    # После установления связи, запрашиваем переданный адрес\n",
    "    # В заголовке запроса уходят headers, в теле - payload\n",
    "        conn.request(\"POST\", \"/\" + self.API_VERSION + \"/\" + api_method, params, headers)\n",
    "         # Получаем ответ с биржи и читаем его в переменную response\n",
    "        response = conn.getresponse().read()\n",
    "        conn.close()\n",
    "        \n",
    "        try:\n",
    "            obj = json.loads(response.decode('utf-8'))\n",
    "            # Смотрим, есть ли в полученном объекте ключ \"error\"\n",
    "            if 'error' in obj and obj['error']:\n",
    "                print(obj['error'])\n",
    "                raise sys.exit()\n",
    "            return obj\n",
    "        # Если не удалось перевести полученный ответ (вернулся не JSON)\n",
    "        except json.decoder.JSONDecodeError:\n",
    "            print('Error while parsing response:', response)\n",
    "            raise sys.exit()\n",
    "     "
   ]
  },
  {
   "cell_type": "code",
   "execution_count": 37,
   "metadata": {},
   "outputs": [
    {
     "name": "stdout",
     "output_type": "stream",
     "text": [
      "('uid', 1421646)\n",
      "('reserved', {'ETH': '0', 'WAVES': '0', 'UAH': '0', 'XRP': '0', 'EUR': '0', 'DASH': '0', 'USD': '0', 'RUB': '0', 'KICK': '0', 'ETC': '0', 'BTG': '0', 'PLN': '0', 'XMR': '0', 'BCH': '0', 'BTC': '0', 'ZEC': '0', 'LTC': '0', 'USDT': '0', 'DOGE': '0'})\n",
      "('balances', {'ETH': '0', 'WAVES': '0', 'UAH': '0', 'XRP': '0', 'EUR': '0', 'DASH': '0', 'USD': '0', 'RUB': '94', 'KICK': '0', 'ETC': '0', 'BTG': '0', 'PLN': '0', 'XMR': '0', 'BCH': '0', 'BTC': '0', 'ZEC': '0', 'LTC': '0', 'USDT': '0', 'DOGE': '0'})\n",
      "('server_date', 1525526663)\n"
     ]
    }
   ],
   "source": [
    "ExmoAPI_instance = ExmoAPI(API_KEY, API_SECRET)\n",
    "# print(ExmoAPI_instance.api_query('user_info'))\n",
    "for i in ExmoAPI_instance.api_query('user_info').items():\n",
    "    print(i)\n",
    "# print(ExmoAPI_instance.api_query())"
   ]
  },
  {
   "cell_type": "code",
   "execution_count": 9,
   "metadata": {},
   "outputs": [
    {
     "data": {
      "text/plain": [
       "{'error': '', 'order_id': 798988579, 'result': True}"
      ]
     },
     "execution_count": 9,
     "metadata": {},
     "output_type": "execute_result"
    }
   ],
   "source": [
    "ExmoAPI_instance.api_query('order_create',{'pair':'BTC_RUB',\n",
    "                                           'quantity':2,\n",
    "                                           'price':10,\n",
    "                                           'type':'buy',\n",
    "                                          })"
   ]
  },
  {
   "cell_type": "code",
   "execution_count": 51,
   "metadata": {},
   "outputs": [
    {
     "data": {
      "text/plain": [
       "{}"
      ]
     },
     "execution_count": 51,
     "metadata": {},
     "output_type": "execute_result"
    }
   ],
   "source": [
    "ExmoAPI_instance.api_query('user_open_orders')"
   ]
  },
  {
   "cell_type": "code",
   "execution_count": 137,
   "metadata": {},
   "outputs": [
    {
     "name": "stdout",
     "output_type": "stream",
     "text": [
      "{'type': 'buy', 'quantity': '0.00858422', 'trade_id': 58756516, 'amount': '4961.5933178', 'price': '577990', 'date': 1525530852}\n",
      "{'type': 'buy', 'quantity': '0.01636909', 'trade_id': 58756515, 'amount': '9461.13759092', 'price': '577988', 'date': 1525530852}\n",
      "{'type': 'buy', 'quantity': '0.008', 'trade_id': 58756514, 'amount': '4622.4', 'price': '577800', 'date': 1525530852}\n",
      "{'type': 'buy', 'quantity': '0.01936766', 'trade_id': 58756513, 'amount': '11186.760416', 'price': '577600', 'date': 1525530852}\n",
      "{'type': 'buy', 'quantity': '0.0447709', 'trade_id': 58756512, 'amount': '25858.776422', 'price': '577580', 'date': 1525530852}\n",
      "{'type': 'buy', 'quantity': '0.016', 'trade_id': 58756511, 'amount': '9241.27999999', 'price': '577579.99999999', 'date': 1525530852}\n",
      "{'type': 'buy', 'quantity': '0.00687813', 'trade_id': 58756510, 'amount': '3972.67032539', 'price': '577579.999999', 'date': 1525530852}\n",
      "{'type': 'buy', 'quantity': '0.00207829', 'trade_id': 58756509, 'amount': '1200.37873819', 'price': '577579.999999', 'date': 1525530852}\n",
      "{'type': 'buy', 'quantity': '0.8984', 'trade_id': 58756481, 'amount': '518839.476', 'price': '577515', 'date': 1525530804}\n",
      "{'type': 'sell', 'quantity': '0.01', 'trade_id': 58756474, 'amount': '5770.5', 'price': '577050', 'date': 1525530791}\n",
      "{'type': 'sell', 'quantity': '0.00809948', 'trade_id': 58756442, 'amount': '4673.804934', 'price': '577050', 'date': 1525530753}\n",
      "{'type': 'sell', 'quantity': '0.00404402', 'trade_id': 58756441, 'amount': '2333.60176433', 'price': '577050.00577051', 'date': 1525530753}\n",
      "{'type': 'buy', 'quantity': '0.00063234', 'trade_id': 58756439, 'amount': '365.239584', 'price': '577600', 'date': 1525530740}\n",
      "{'type': 'buy', 'quantity': '0.0011', 'trade_id': 58756438, 'amount': '634.75500634', 'price': '577050.005771', 'date': 1525530740}\n",
      "{'type': 'sell', 'quantity': '0.00213448', 'trade_id': 58756420, 'amount': '1231.70169631', 'price': '577050.00577051', 'date': 1525530732}\n",
      "{'type': 'sell', 'quantity': '0.0011', 'trade_id': 58756392, 'amount': '634.75500634', 'price': '577050.00577051', 'date': 1525530706}\n",
      "{'type': 'sell', 'quantity': '0.0001', 'trade_id': 58756383, 'amount': '57.70500057', 'price': '577050.00577051', 'date': 1525530703}\n",
      "{'type': 'sell', 'quantity': '0.001', 'trade_id': 58756382, 'amount': '577.05100577', 'price': '577051.00577051', 'date': 1525530703}\n",
      "{'type': 'buy', 'quantity': '0.0056358', 'trade_id': 58756358, 'amount': '3255.23807999', 'price': '577599.99999999', 'date': 1525530679}\n",
      "{'type': 'sell', 'quantity': '0.0011', 'trade_id': 58756334, 'amount': '634.75500634', 'price': '577050.00577051', 'date': 1525530656}\n",
      "{'type': 'sell', 'quantity': '0.00134685', 'trade_id': 58756326, 'amount': '777.19980027', 'price': '577050.00577051', 'date': 1525530653}\n",
      "{'type': 'buy', 'quantity': '0.872', 'trade_id': 58756311, 'amount': '503580.872', 'price': '577501', 'date': 1525530639}\n",
      "{'type': 'sell', 'quantity': '0.004', 'trade_id': 58756291, 'amount': '2308.2', 'price': '577050', 'date': 1525530610}\n",
      "{'type': 'sell', 'quantity': '0.001', 'trade_id': 58756290, 'amount': '577.051', 'price': '577051', 'date': 1525530610}\n",
      "{'type': 'sell', 'quantity': '0.0011', 'trade_id': 58756132, 'amount': '634.755', 'price': '577050', 'date': 1525530522}\n",
      "{'type': 'sell', 'quantity': '0.011', 'trade_id': 58756042, 'amount': '6347.55', 'price': '577050', 'date': 1525530470}\n",
      "{'type': 'sell', 'quantity': '0.01251856', 'trade_id': 58756039, 'amount': '7223.835048', 'price': '577050', 'date': 1525530470}\n",
      "{'type': 'sell', 'quantity': '0.00213898', 'trade_id': 58756024, 'amount': '1235.86059112', 'price': '577780.33975405', 'date': 1525530451}\n",
      "{'type': 'sell', 'quantity': '0.0011', 'trade_id': 58756021, 'amount': '635.55837372', 'price': '577780.33975405', 'date': 1525530449}\n",
      "{'type': 'sell', 'quantity': '0.0011', 'trade_id': 58756016, 'amount': '635.55837372', 'price': '577780.33975405', 'date': 1525530446}\n",
      "{'type': 'sell', 'quantity': '0.00112664', 'trade_id': 58756008, 'amount': '650.95044198', 'price': '577780.33975405', 'date': 1525530443}\n",
      "{'type': 'sell', 'quantity': '0.0011', 'trade_id': 58756002, 'amount': '635.55837372', 'price': '577780.33975405', 'date': 1525530440}\n",
      "{'type': 'sell', 'quantity': '0.00119636', 'trade_id': 58755996, 'amount': '691.23328726', 'price': '577780.33975405', 'date': 1525530437}\n",
      "{'type': 'buy', 'quantity': '0.001', 'trade_id': 58755993, 'amount': '577.78033975', 'price': '577780.33975405', 'date': 1525530436}\n",
      "{'type': 'buy', 'quantity': '0.00540816', 'trade_id': 58755992, 'amount': '3124.6882636', 'price': '577772.8957', 'date': 1525530436}\n",
      "{'type': 'buy', 'quantity': '0.00006143', 'trade_id': 58755991, 'amount': '35.49258898', 'price': '577772.8957', 'date': 1525530436}\n",
      "{'type': 'buy', 'quantity': '0.00376843', 'trade_id': 58755990, 'amount': '2177.022011', 'price': '577700', 'date': 1525530436}\n",
      "{'type': 'sell', 'quantity': '0.0011', 'trade_id': 58755977, 'amount': '634.755', 'price': '577050', 'date': 1525530400}\n",
      "{'type': 'sell', 'quantity': '0.0011', 'trade_id': 58755968, 'amount': '634.755', 'price': '577050', 'date': 1525530397}\n",
      "{'type': 'sell', 'quantity': '0.00145781', 'trade_id': 58755952, 'amount': '841.2292605', 'price': '577050', 'date': 1525530391}\n",
      "{'type': 'buy', 'quantity': '0.0020714', 'trade_id': 58755912, 'amount': '1196.64778', 'price': '577700', 'date': 1525530337}\n",
      "{'type': 'buy', 'quantity': '0.001', 'trade_id': 58755911, 'amount': '577.35', 'price': '577350', 'date': 1525530337}\n",
      "{'type': 'sell', 'quantity': '0.87', 'trade_id': 58755902, 'amount': '502107.45', 'price': '577135', 'date': 1525530329}\n",
      "{'type': 'sell', 'quantity': '0.00235838', 'trade_id': 58755891, 'amount': '1360.78526', 'price': '577000', 'date': 1525530311}\n",
      "{'type': 'buy', 'quantity': '0.00747963', 'trade_id': 58755810, 'amount': '4317.30819223', 'price': '577208.79137532', 'date': 1525530256}\n",
      "{'type': 'buy', 'quantity': '0.00252037', 'trade_id': 58755807, 'amount': '1454.77972151', 'price': '577208.79137532', 'date': 1525530254}\n",
      "{'type': 'buy', 'quantity': '0.00093857', 'trade_id': 58755784, 'amount': '542.28030671', 'price': '577772.8957', 'date': 1525530226}\n",
      "{'type': 'buy', 'quantity': '0.001', 'trade_id': 58755783, 'amount': '577.77058687', 'price': '577770.58687639', 'date': 1525530226}\n",
      "{'type': 'buy', 'quantity': '0.01037088', 'trade_id': 58755782, 'amount': '5991.58821023', 'price': '577731.9003047', 'date': 1525530226}\n",
      "{'type': 'buy', 'quantity': '0.0039784', 'trade_id': 58755781, 'amount': '2298.3566556', 'price': '577708.79137532', 'date': 1525530226}\n",
      "{'type': 'buy', 'quantity': '0.00170503', 'trade_id': 58755743, 'amount': '985.01082055', 'price': '577708.79137532', 'date': 1525530207}\n",
      "{'type': 'buy', 'quantity': '1', 'trade_id': 58755731, 'amount': '577408', 'price': '577408', 'date': 1525530205}\n",
      "{'type': 'buy', 'quantity': '0.00103849', 'trade_id': 58755701, 'amount': '599.94480275', 'price': '577708.79137532', 'date': 1525530193}\n",
      "{'type': 'buy', 'quantity': '0.00139726', 'trade_id': 58755700, 'amount': '807.197102', 'price': '577700', 'date': 1525530193}\n",
      "{'type': 'buy', 'quantity': '0.00038088', 'trade_id': 58755664, 'amount': '219.996288', 'price': '577600', 'date': 1525530172}\n",
      "{'type': 'buy', 'quantity': '0.001', 'trade_id': 58755650, 'amount': '577.6', 'price': '577600', 'date': 1525530167}\n",
      "{'type': 'buy', 'quantity': '0.001', 'trade_id': 58755638, 'amount': '577.6', 'price': '577600', 'date': 1525530165}\n",
      "{'type': 'buy', 'quantity': '0.0011063', 'trade_id': 58755634, 'amount': '638.99888', 'price': '577600', 'date': 1525530164}\n",
      "{'type': 'buy', 'quantity': '0.00158068', 'trade_id': 58755630, 'amount': '913.000768', 'price': '577600', 'date': 1525530163}\n",
      "{'type': 'buy', 'quantity': '0.00632135', 'trade_id': 58755624, 'amount': '3651.21176', 'price': '577600', 'date': 1525530161}\n",
      "{'type': 'buy', 'quantity': '0.00632033', 'trade_id': 58755623, 'amount': '3650.622608', 'price': '577600', 'date': 1525530161}\n",
      "{'type': 'buy', 'quantity': '0.00903049', 'trade_id': 58755616, 'amount': '5216.011024', 'price': '577600', 'date': 1525530159}\n",
      "{'type': 'buy', 'quantity': '0.01364291', 'trade_id': 58755612, 'amount': '7880.144816', 'price': '577600', 'date': 1525530158}\n",
      "{'type': 'buy', 'quantity': '0.019493', 'trade_id': 58755608, 'amount': '11259.1568', 'price': '577600', 'date': 1525530157}\n",
      "{'type': 'sell', 'quantity': '0.00104669', 'trade_id': 58755563, 'amount': '602.9351018', 'price': '576039.8033855', 'date': 1525530140}\n",
      "{'type': 'sell', 'quantity': '0.001', 'trade_id': 58755562, 'amount': '576.04080338', 'price': '576040.80338448', 'date': 1525530140}\n",
      "{'type': 'sell', 'quantity': '0.001', 'trade_id': 58755561, 'amount': '577.5001', 'price': '577500.1', 'date': 1525530140}\n",
      "{'type': 'buy', 'quantity': '0.00258626', 'trade_id': 58755533, 'amount': '1493.56515', 'price': '577500', 'date': 1525530123}\n",
      "{'type': 'buy', 'quantity': '0.00258475', 'trade_id': 58755532, 'amount': '1492.693125', 'price': '577500', 'date': 1525530122}\n",
      "{'type': 'buy', 'quantity': '0.00369466', 'trade_id': 58755524, 'amount': '2133.66615', 'price': '577500', 'date': 1525530120}\n",
      "{'type': 'buy', 'quantity': '0.00616016', 'trade_id': 58755520, 'amount': '3557.4924', 'price': '577500', 'date': 1525530119}\n",
      "{'type': 'buy', 'quantity': '0.00880537', 'trade_id': 58755515, 'amount': '5085.101175', 'price': '577500', 'date': 1525530119}\n",
      "{'type': 'buy', 'quantity': '0.004', 'trade_id': 58755509, 'amount': '2310', 'price': '577500', 'date': 1525530117}\n",
      "{'type': 'buy', 'quantity': '0.007', 'trade_id': 58755508, 'amount': '4042.493', 'price': '577499', 'date': 1525530117}\n",
      "{'type': 'buy', 'quantity': '0.003', 'trade_id': 58755504, 'amount': '1732.497', 'price': '577499', 'date': 1525530117}\n",
      "{'type': 'buy', 'quantity': '1.057', 'trade_id': 58755413, 'amount': '610417.5', 'price': '577500', 'date': 1525530071}\n",
      "{'type': 'sell', 'quantity': '0.00111111', 'trade_id': 58755298, 'amount': '640.04038573', 'price': '576036.92319844', 'date': 1525530001}\n",
      "{'type': 'sell', 'quantity': '0.001', 'trade_id': 58755181, 'amount': '577.70879137', 'price': '577708.791375', 'date': 1525529964}\n",
      "{'type': 'buy', 'quantity': '0.00067455', 'trade_id': 58755120, 'amount': '389.69285812', 'price': '577707.891375', 'date': 1525529947}\n",
      "{'type': 'buy', 'quantity': '0.00055415', 'trade_id': 58755115, 'amount': '320.136828', 'price': '577707.891375', 'date': 1525529946}\n",
      "{'type': 'buy', 'quantity': '0.00044585', 'trade_id': 58755114, 'amount': '257.56551071', 'price': '577695.43728395', 'date': 1525529946}\n",
      "{'type': 'sell', 'quantity': '0.00129586', 'trade_id': 58755106, 'amount': '748.61989555', 'price': '577701.214296', 'date': 1525529943}\n",
      "{'type': 'buy', 'quantity': '0.00164405', 'trade_id': 58754930, 'amount': '949.76968136', 'price': '577701.21429609', 'date': 1525529901}\n",
      "{'type': 'sell', 'quantity': '0.8387', 'trade_id': 58754927, 'amount': '483421.6478', 'price': '576394', 'date': 1525529900}\n",
      "{'type': 'sell', 'quantity': '1.15', 'trade_id': 58754601, 'amount': '662894.5', 'price': '576430', 'date': 1525529714}\n",
      "{'type': 'sell', 'quantity': '0.00122871', 'trade_id': 58754502, 'amount': '707.122605', 'price': '575500', 'date': 1525529672}\n",
      "{'type': 'sell', 'quantity': '0.00130418', 'trade_id': 58754497, 'amount': '753.43507777', 'price': '577707.891375', 'date': 1525529672}\n",
      "{'type': 'sell', 'quantity': '0.00122871', 'trade_id': 58754495, 'amount': '709.83546321', 'price': '577707.891375', 'date': 1525529672}\n",
      "{'type': 'buy', 'quantity': '0.00192272', 'trade_id': 58754461, 'amount': '1110.77224735', 'price': '577708.79137532', 'date': 1525529665}\n",
      "{'type': 'buy', 'quantity': '0.00004116', 'trade_id': 58754460, 'amount': '23.77849385', 'price': '577708.79137532', 'date': 1525529663}\n",
      "{'type': 'buy', 'quantity': '1.05', 'trade_id': 58754333, 'amount': '605640', 'price': '576800', 'date': 1525529571}\n",
      "{'type': 'buy', 'quantity': '0.01587472', 'trade_id': 58754313, 'amount': '9171.31786515', 'price': '577731.00030469', 'date': 1525529559}\n",
      "{'type': 'buy', 'quantity': '0.00212528', 'trade_id': 58754312, 'amount': '1226.87970439', 'price': '577279.09', 'date': 1525529559}\n",
      "{'type': 'sell', 'quantity': '0.002027', 'trade_id': 58754304, 'amount': '1166.102695', 'price': '575285', 'date': 1525529546}\n",
      "{'type': 'sell', 'quantity': '0.08335987', 'trade_id': 58754265, 'amount': '47955.66989325', 'price': '575284.84501307', 'date': 1525529532}\n",
      "{'type': 'sell', 'quantity': '0.0016307', 'trade_id': 58754264, 'amount': '938.1170212', 'price': '575284.86', 'date': 1525529532}\n",
      "{'type': 'buy', 'quantity': '0.00280026', 'trade_id': 58754218, 'amount': '1616.5340928', 'price': '577280', 'date': 1525529515}\n",
      "{'type': 'buy', 'quantity': '0.00400037', 'trade_id': 58754210, 'amount': '2309.3335936', 'price': '577280', 'date': 1525529513}\n",
      "{'type': 'sell', 'quantity': '0.00162896', 'trade_id': 58754152, 'amount': '937.11600113', 'price': '575284.84501329', 'date': 1525529491}\n",
      "{'type': 'sell', 'quantity': '0.0010652', 'trade_id': 58754117, 'amount': '612.7934169', 'price': '575284.84501204', 'date': 1525529455}\n",
      "хотят КУПИТЬ больше на 1242051.58 RUB при 4737382.27 перевес в 3.814%\n",
      "средняя цена 577075.53 за BTC в RUB\n"
     ]
    }
   ],
   "source": [
    "def now_time_orders(): \n",
    "    total_amount = 0\n",
    "    total_quantity = 0\n",
    "    bought_total_amount = 0\n",
    "    sell_total_amount = 0\n",
    "    \n",
    "    for string in ExmoAPI_instance.api_query('trades',{'pair':str(CURRENCY_1)+'_'+str(CURRENCY_2)}).items():\n",
    "        for order in string[1]:\n",
    "            print(order)\n",
    "            total_quantity += float(order['quantity'])\n",
    "            total_amount += float(order['amount'])\n",
    "            if order['type'] == 'buy':\n",
    "                bought_total_amount += float(order['amount'])\n",
    "            elif order['type'] == 'sell':\n",
    "                sell_total_amount += float(order['amount'])\n",
    "#       узнаем НАСТРОЕНИЯ более крупных капиталов на рынке В ДАННЫЙ МЕМОНТ(В ДАННУЮ МИНУТУ, СЕКУНДУ)(сомнительная херня) \n",
    "        if bought_total_amount > sell_total_amount:\n",
    "            print('хотят КУПИТЬ больше на {:.2f} {} при {:.2f} перевес в {:.3f}%'.format(bought_total_amount-sell_total_amount, CURRENCY_2, total_amount,total_amount/(bought_total_amount-sell_total_amount)))\n",
    "        else:\n",
    "            print('хотят ПРОДАТЬ больше на {:.2f} {} при {:.2f} перевес в {:.3f}%'.format(sell_total_amount-bought_total_amount, CURRENCY_2, total_amount,total_amount/(sell_total_amount-bought_total_amount)))\n",
    "        middle_price = total_amount/total_quantity\n",
    "        print('средняя цена {:.2f} за {} в {}'.format(middle_price,CURRENCY_1,CURRENCY_2))\n",
    "now_time_orders()\n",
    "\n"
   ]
  },
  {
   "cell_type": "code",
   "execution_count": 102,
   "metadata": {},
   "outputs": [
    {
     "data": {
      "text/plain": [
       "'BTC_RUB'"
      ]
     },
     "execution_count": 102,
     "metadata": {},
     "output_type": "execute_result"
    }
   ],
   "source": []
  }
 ],
 "metadata": {
  "kernelspec": {
   "display_name": "Python 3",
   "language": "python",
   "name": "python3"
  },
  "language_info": {
   "codemirror_mode": {
    "name": "ipython",
    "version": 3
   },
   "file_extension": ".py",
   "mimetype": "text/x-python",
   "name": "python",
   "nbconvert_exporter": "python",
   "pygments_lexer": "ipython3",
   "version": "3.5.2"
  }
 },
 "nbformat": 4,
 "nbformat_minor": 2
}
