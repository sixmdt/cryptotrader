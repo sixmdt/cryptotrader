{
 "cells": [
  {
   "cell_type": "code",
   "execution_count": 1,
   "metadata": {},
   "outputs": [],
   "source": [
    "import urllib, http.client\n",
    "import time\n",
    "import json\n",
    "# эти модули нужны для генерации подписи API\n",
    "import hmac, hashlib\n",
    "# ВАЖНО Количество API вызовов ограничено 180 запросами в минуту с одного IP адреса либо от одного пользователя.\n",
    "# ОБЯЗАТЕЛЬНО НА ВСЕХ ФУНКЦИЯХ ДОДЕЛАТЬ sleep time"
   ]
  },
  {
   "cell_type": "code",
   "execution_count": 2,
   "metadata": {},
   "outputs": [],
   "source": [
    "API_KEY ='K-3038939b9a19156293f232b73e6d2392c9799078'\n",
    "API_SECRET = 'S-c25c5229f8be56020bcd495c8adac52e02ff0c4a'\n",
    "# принцип продаж продукта(для себя, чтоб не забыть) бесплатно, но забирая 50% от прибыли ежемесячно"
   ]
  },
  {
   "cell_type": "code",
   "execution_count": 3,
   "metadata": {},
   "outputs": [],
   "source": [
    "CURRENCY_1 = 'BTC'\n",
    "CURRENCY_2 = 'RUB'\n",
    "CURRENCY_1_MIN_QUANTITY = 0.001"
   ]
  },
  {
   "cell_type": "code",
   "execution_count": 4,
   "metadata": {},
   "outputs": [],
   "source": [
    "ORDER_LIFE_TIME = 3 # минуты\n",
    "STOCK_FEE = 0.002 # комиссия == 0.2%\n",
    "AVG_PRICE_PERIOD = 15 # за какой период брать ср цену(минуты)\n",
    "CAN_SPEND = 5 # сколько тратить CUR_2 при каждой покупке CUR_1\n",
    "PROFIT_MARKUP = 0.001 # прибыль в 1%\n",
    "DEBUG = True # инфа отладки\n",
    "\n",
    "STOCK_TIME_OFFSET = 0 # если время биржи расходится с нашим\n",
    "# обращение к api\n",
    "API_URL = 'api.exmo.me'\n",
    "API_VERSION = 'v1'\n",
    "\n",
    "CURRENT_PAIR = CURRENCY_1 + '_' + CURRENCY_2\n",
    "\n",
    "\n",
    "# к1 и к2 - высокочастотная торговля, не относится к нейронке\n",
    "# научиться выстраивать коридоры, анализируя крупных игроков(или как то подстраиваться под значительно более большие V торгов объему торгов)\n",
    "# научиться выстраивать несколько корридоров\n",
    "# задуматься стоит ли делать скальпинг(1 стр)\n",
    "# \n",
    "# \n",
    "# \n",
    "# -------не нейронка-----------------\n",
    "# стр1 - для валют 2-3 эшелона - покупка нескольких монет(на сумму до 1000р(в долгосрочной перспективе)) и продажа их по достижении прибыли в 1-3%, далее - сбор информации, ожидание дампа)\n",
    "# стр2 - сделать коридор(+-1-5%), выделить центральный, если ниже центрального коридора, то получить профит в крипте, если выше - в баксах(хз, может и в иных коинах, но это уже сложно)                                            \n",
    "# # к1 - проследить среднюю цену сделки за последние 100-300 \n",
    "#      сделок и при отклонении 1-3% вниз - купить, при нормализации курса - продать\n",
    "# к2 - проследить среднюю цену сделки за последние 100-300\n",
    "#       при отклонении 1-3% вниз купить, а продать при 1-3% вверх\n",
    "# -------------нейронка----------------\n",
    "# стр1 - сделать анализ(реально это сделать просто по графикам, не привлекая парсер) валют и найти координально разные(противоположные по сути) и вывести их (пример.Dogecoin и Monero, Ripple и эфириум)\n",
    "# стр2 - анализ перспективности валюты(В конце декабря 2017 года Ripple пробил отметку в 1 доллар США за монету. К 6 января 2018 года стоимость данной крипты перевалила за 3 доллара США. Как не сложно посчитать, монета за 10 дней увеличила свою стоимость в 3 (!!!) раза(а если бы бот продал с наценкой 10%, то это дало бы - ничего))\n",
    "# стр3 - научить(по графику) нейронку выделять центральный коридор и большой в той или иной крипте, если ниже центрального коридора, то получить профит в крипте, если выше - в баксах(хз, может и в иных коинах, но это уже сложно) \n",
    "# стр4 - анализ твиттера известных бизнесменов(в т.ч. не из сферы криптовалют) и по их твитам делать прогнозы\n",
    "# к3 - нейронка + парсер на отслеживание новосей( кстати вре5мя покупки/продажи тоже лучше вычислить нейронкой\n",
    "#          если настроение +, то ждать 1-7 дней и продавать\n",
    "#          если настроение -, ждать 1-2 днея и покупать\n",
    "# к4 - аналогично к3, но в телеграмм каналах(там много инфы(годной по моей практике) о криптовалютах и (что очень важно)пампах и дампах этих валют)) \n",
    "# к5(wery hard way) - смотреть гит  репозитории валют и смотреть отличия(преимущества на уровне кода) разных валют\n",
    "# к6 - проект просмотреть проекты наподобие cbf и совместно создать стратегию о том как монетизировать их\n",
    "# к7 - статьи из raddit"
   ]
  },
  {
   "cell_type": "code",
   "execution_count": 5,
   "metadata": {},
   "outputs": [],
   "source": [
    "class ExmoAPI:\n",
    "#     тут всё понятно\n",
    "    def __init__(self, API_KEY, API_SECRET, API_URL = 'api.exmo.me', API_VERSION = 'v1'):\n",
    "        self.API_URL = API_URL\n",
    "        self.API_VERSION = API_VERSION\n",
    "        self.API_KEY = API_KEY\n",
    "        self.API_SECRET = bytes(API_SECRET, encoding='utf-8')\n",
    "        \n",
    "# Из строки payload получаем \"подпись\", хешируем с помощью секретного ключа API\n",
    "# sing - получаемый ключ, который будет отправлен на биржу для проверки\n",
    "    def sha512(self, data):\n",
    "        H = hmac.new(key = self.API_SECRET, digestmod = hashlib.sha512)\n",
    "        H.update(data.encode('utf-8'))\n",
    "        return H.hexdigest()\n",
    "    \n",
    "# Составляем словарь {ключ:значение} для отправки на биржу\n",
    "# пока что в нём {'nonce':2938491248715}\n",
    "\n",
    "    def api_query(self, api_method, params = {}):\n",
    "        params['nonce'] = int(round(time.time() * 1000))\n",
    "        # Переводим словарь payload в строку, в формат для отправки через GET/POST и т.п.\n",
    "        params =  urllib.parse.urlencode(params)\n",
    "\n",
    "        sign = self.sha512(params)\n",
    "        \n",
    "        # Формируем заголовки request для отправки запроса на биржу. \n",
    "        # Передается публичный ключ API и подпись, полученная с помощью hmac\n",
    "        headers = {\n",
    "            \"Content-type\": \"application/x-www-form-urlencoded\",\n",
    "            \"Key\": self.API_KEY,\n",
    "            \"Sign\": sign\n",
    "        }\n",
    "# Создаем подключение к бирже, если в течении 60 сек не удалось подключиться, обрыв соединения    \n",
    "        conn = http.client.HTTPSConnection(self.API_URL, timeout=60)\n",
    "    # После установления связи, запрашиваем переданный адрес\n",
    "    # В заголовке запроса уходят headers, в теле - payload\n",
    "        conn.request(\"POST\", \"/\" + self.API_VERSION + \"/\" + api_method, params, headers)\n",
    "         # Получаем ответ с биржи и читаем его в переменную response\n",
    "        response = conn.getresponse().read()\n",
    "        conn.close()\n",
    "        \n",
    "        try:\n",
    "            obj = json.loads(response.decode('utf-8'))\n",
    "            # Смотрим, есть ли в полученном объекте ключ \"error\"\n",
    "            if 'error' in obj and obj['error']:\n",
    "                print(obj['error'])\n",
    "                raise sys.exit()\n",
    "            return obj\n",
    "        # Если не удалось перевести полученный ответ (вернулся не JSON)\n",
    "        except json.decoder.JSONDecodeError:\n",
    "            print('Error while parsing response:', response)\n",
    "            raise sys.exit()\n",
    "     "
   ]
  },
  {
   "cell_type": "code",
   "execution_count": 6,
   "metadata": {},
   "outputs": [
    {
     "name": "stdout",
     "output_type": "stream",
     "text": [
      "('server_date', 1525532884)\n",
      "('reserved', {'PLN': '0', 'BTG': '0', 'USD': '0', 'USDT': '0', 'BTC': '0', 'DASH': '0', 'RUB': '0', 'XRP': '0', 'ETC': '0', 'DOGE': '0', 'EUR': '0', 'UAH': '0', 'XMR': '0', 'ETH': '0', 'KICK': '0', 'LTC': '0', 'BCH': '0', 'WAVES': '0', 'ZEC': '0'})\n",
      "('balances', {'PLN': '0', 'BTG': '0', 'USD': '0', 'USDT': '0', 'BTC': '0', 'DASH': '0', 'RUB': '94', 'XRP': '0', 'ETC': '0', 'DOGE': '0', 'EUR': '0', 'UAH': '0', 'XMR': '0', 'ETH': '0', 'KICK': '0', 'LTC': '0', 'BCH': '0', 'WAVES': '0', 'ZEC': '0'})\n",
      "('uid', 1421646)\n"
     ]
    }
   ],
   "source": [
    "ExmoAPI_instance = ExmoAPI(API_KEY, API_SECRET)\n",
    "# print(ExmoAPI_instance.api_query('user_info'))\n",
    "for i in ExmoAPI_instance.api_query('user_info').items():\n",
    "    print(i)\n",
    "# print(ExmoAPI_instance.api_query())"
   ]
  },
  {
   "cell_type": "code",
   "execution_count": 7,
   "metadata": {},
   "outputs": [
    {
     "data": {
      "text/plain": [
       "{'error': '', 'order_id': 799485001, 'result': True}"
      ]
     },
     "execution_count": 7,
     "metadata": {},
     "output_type": "execute_result"
    }
   ],
   "source": [
    "ExmoAPI_instance.api_query('order_create',{'pair':'BTC_RUB',\n",
    "                                           'quantity':2,\n",
    "                                           'price':10,\n",
    "                                           'type':'buy',\n",
    "                                          })"
   ]
  },
  {
   "cell_type": "code",
   "execution_count": 8,
   "metadata": {},
   "outputs": [
    {
     "data": {
      "text/plain": [
       "{'BTC_RUB': [{'amount': '20',\n",
       "   'created': '1525532885',\n",
       "   'order_id': '799485001',\n",
       "   'pair': 'BTC_RUB',\n",
       "   'price': '10',\n",
       "   'quantity': '2',\n",
       "   'type': 'buy'}]}"
      ]
     },
     "execution_count": 8,
     "metadata": {},
     "output_type": "execute_result"
    }
   ],
   "source": [
    "ExmoAPI_instance.api_query('user_open_orders')"
   ]
  },
  {
   "cell_type": "code",
   "execution_count": 81,
   "metadata": {},
   "outputs": [
    {
     "name": "stdout",
     "output_type": "stream",
     "text": [
      "Сумма последних 1000 ордеров на продажу 69581789.20504252\n",
      "Минимальная цена 575000 за BTC в сделке в RUB\n",
      "Максимальная цена 574120.01852188 за BTC в сделке в RUB\n",
      "Объем ВСЕХ ордеров на покупку 5121852.54778285 BTC\n",
      "Объем ВСЕХ ордеров на продажу 94.73915595 BTC\n",
      "Сумма последних 1000 ордеров на покупку 21709756.679537\n",
      "Разница средней цены продажи превышает на 10910.857 или 1.914% и составляет 580861.0200364895\n",
      "За последние 200 сделок объем ПОКУПОК превышает на 0.263 или 3.470%\n",
      "За последние 200 сделок сумма ПОКУПОК превышает на 67196.655 или 1.526%\n",
      "Сумма закрытых ордеров продаж превысила сумму покупок на 47872032.53 или на 220.5093%\n"
     ]
    }
   ],
   "source": [
    "def get_history_for_last(count):\n",
    "    sale_total_amount = 0\n",
    "    sale_total_quantity = 0\n",
    "    buy_total_amount = 0\n",
    "    buy_total_quantity = 0\n",
    "    for string in ExmoAPI_instance.api_query('order_book',{'pair':str(CURRENCY_1)+'_'+str(CURRENCY_2),'limit':count}).items():\n",
    "        for i in string[1].items():\n",
    "#             print(i)\n",
    "            if i[0] == 'ask_top':\n",
    "                min_price = i[1]\n",
    "                print('Минимальная цена {} за {} в сделке в {}'.format(i[1],CURRENCY_1,CURRENCY_2))\n",
    "            if i[0] == 'bid_top':\n",
    "                max_price = i[1]\n",
    "                print('Максимальная цена {} за {} в сделке в {}'.format(i[1],CURRENCY_1,CURRENCY_2))        \n",
    "#  ниже некачественные данные....суммы/объемы всех ордеров на продажу/покупку не отражают истинного положения вещей(потом на помойку их)\n",
    "#  хотя хз, это раздел по ЗАКРЫТЫМ  сделкам, так что может я не прав, но цифры неадкватные\n",
    "            if i[0] == 'ask_quantity':\n",
    "                print('Объем ВСЕХ ордеров на продажу {} {}'.format(i[1],CURRENCY_1))\n",
    "            if i[0] == 'bid_quantity':\n",
    "                print('Объем ВСЕХ ордеров на покупку {} {}'.format(i[1],CURRENCY_1))\n",
    "            if i[0] == 'ask_amount':\n",
    "                sell_amount = float(i[1])\n",
    "                print('Сумма последних 1000 ордеров на продажу {}'.format(i[1]))\n",
    "            if i[0] == 'bid_amount':\n",
    "                buy_amount = float(i[1])\n",
    "                print('Сумма последних 1000 ордеров на покупку {}'.format(i[1]))\n",
    "#         ====================================ВЫШЕ - сомнительная инфа===========================\n",
    "            if i[0] == 'ask':\n",
    "                for j in i[1]:\n",
    "#                     print(j)\n",
    "                    sale_total_amount += float(j[2])\n",
    "                    sale_total_quantity += float(j[1])\n",
    "            if i[0] == 'bid':\n",
    "                for j in i[1]:\n",
    "                    buy_total_amount += float(j[2])\n",
    "                    buy_total_quantity += float(j[1])\n",
    "                    \n",
    "        middle_sale_price = sale_total_amount / sale_total_quantity\n",
    "        middle_buy_price = buy_total_amount / buy_total_quantity\n",
    "        if middle_buy_price > middle_sale_price:\n",
    "            print('Разница средней цены покупки превышает на {:.3f} или {:.3f}% и составляет {}'.format(middle_buy_price-middle_sale_price,\n",
    "                                                                                               ((middle_buy_price-middle_sale_price)/middle_sale_price)*100,middle_buy_price))\n",
    "        else: \n",
    "            print('Разница средней цены продажи превышает на {:.3f} или {:.3f}% и составляет {}'.format(middle_sale_price-middle_buy_price,\n",
    "                                                                                               ((middle_sale_price-middle_buy_price)/middle_buy_price)*100,middle_sale_price))\n",
    "        if sale_total_quantity > buy_total_quantity:\n",
    "            print('За последние {} сделок объем ПРОДАЖ превышает на {:.3f} или {:.3f}%'.format(count*2,sale_total_quantity-buy_total_quantity,\n",
    "                                                                                      ((sale_total_quantity-buy_total_quantity)/buy_total_quantity)*100))\n",
    "        else:\n",
    "            print('За последние {} сделок объем ПОКУПОК превышает на {:.3f} или {:.3f}%'.format(count*2,buy_total_quantity-sale_total_quantity,\n",
    "                                                                                       ((buy_total_quantity-sale_total_quantity)/sale_total_quantity)*100))\n",
    "        \n",
    "        \n",
    "        if sale_total_amount > buy_total_amount:\n",
    "            print('За последние {} сделок сумма ПРОДАЖ превышает на {:.3f} или {:.3f}%'.format(count*2,sale_total_amount-buy_total_amount,\n",
    "                                                                                      ((sale_total_amount-buy_total_amount)/buy_total_amount)*100))\n",
    "        else:\n",
    "            print('За последние {} сделок сумма ПОКУПОК превышает на {:.3f} или {:.3f}%'.format(count*2,buy_total_amount-sale_total_amount,\n",
    "                                                                                       ((buy_total_amount-sale_total_amount)/sale_total_amount)*100))\n",
    "        if buy_amount > sell_amount:\n",
    "            print('Сумма закрытых ордеров покупок превысило сумму продаж на {:.2f} или на {:.4f}%'.format(buy_amount-sell_amount,((buy_amount-sell_amount)/sell_amount)*100))\n",
    "        elif sell_amount > buy_amount:\n",
    "            print('Сумма закрытых ордеров продаж превысила сумму покупок на {:.2f} или на {:.4f}%'.format(sell_amount-buy_amount,((sell_amount-buy_amount)/buy_amount)*100))\n",
    "        \n",
    "            \n",
    "# БЕДА КАРОЧ. ОН ВЫДАЕТ ПО count и продажных ордеров и покупных ордеров. Не просто count последних(чтобы можно было проследить настроения топ трейдеров) а ПО COUNT последних для обоих типов ордеров... кароч беда...\n",
    "#  \n",
    "        \n",
    "get_history_for_last(100)"
   ]
  },
  {
   "cell_type": "code",
   "execution_count": 82,
   "metadata": {},
   "outputs": [
    {
     "name": "stdout",
     "output_type": "stream",
     "text": [
      "хотят КУПИТЬ больше на 1189248.86 RUB перевес в 102.916765738%\n",
      "Средняя цена ордеров покупки 575820.63 за BTC в RUB\n",
      "Средняя цена ордеров продажи 574750.77 за BTC в RUB\n",
      "средняя цена ордеров 575467.01 за BTC в RUB\n",
      "объем ордеров в BTC 6.082603\n",
      "Объем ордеров в RUB 3500337.52\n",
      "МАКСИМАЛЬНЫЙ ОРДЕР ПОКУПКИ 576580.99995987 больше среднего на 1113.99 RUB или 0.1320%\n",
      "МИНИМАЛЬНЫЙ ОРДЕР ПОКУПКИ 574120.000005 меньше среднего на 1347.01 RUB или 0.2962%\n",
      "МАКСИМАЛЬНЫЙ ОРДЕР ПРОДАЖИ 576580.99995857 больше среднего на 1113.99 RUB или 0.3184%\n",
      "МИНИМАЛЬНЫЙ ОРДЕР ПРОДАЖИ 574111.0020202 меньше среднего на 1356.00 RUB или 0.1114%\n"
     ]
    }
   ],
   "source": [
    "def now_time_orders(): \n",
    "    total_amount = 0\n",
    "    total_quantity = 0\n",
    "    bought_total_amount = 0\n",
    "    sell_total_amount = 0\n",
    "    min_buy_price = None\n",
    "    min_sell_price = None\n",
    "    max_buy_price = None\n",
    "    max_sell_price = None\n",
    "    total_buy_quantity = 0\n",
    "    total_sell_quantity = 0\n",
    "    for string in ExmoAPI_instance.api_query('trades',{'pair':str(CURRENCY_1)+'_'+str(CURRENCY_2)}).items():\n",
    "        for order in string[1]:\n",
    "#           print(order)\n",
    "\n",
    "#    ===========узнаем max/min buy/sell ценники======================\n",
    "#          минимальная покупка\n",
    "            if min_buy_price == None:\n",
    "                min_buy_price = float(order['price'])\n",
    "            elif (float(order['price']) < min_buy_price ) and (order['type']=='buy'):\n",
    "                min_buy_price = float(order['price'])\n",
    "#          максимальная покупка\n",
    "            if max_buy_price == None:\n",
    "                max_buy_price = float(order['price'])\n",
    "            elif (float(order['price']) > max_buy_price ) and (order['type']=='buy'):\n",
    "                max_buy_price = float(order['price'])\n",
    "#             минимальная продажа\n",
    "            if min_sell_price == None:\n",
    "                min_sell_price = float(order['price'])\n",
    "            elif (float(order['price']) < min_sell_price ) and (order['type']=='sell'):\n",
    "                min_sell_price = float(order['price'])\n",
    "#             максимальная продажа\n",
    "            if max_sell_price == None:\n",
    "                max_sell_price = float(order['price'])\n",
    "            elif (float(order['price']) > max_sell_price ) and (order['type']=='sell'):\n",
    "                max_sell_price = float(order['price'])\n",
    "#   ============================================================================\n",
    "            total_quantity += float(order['quantity'])\n",
    "            total_amount += float(order['amount'])\n",
    "            if order['type'] == 'buy':\n",
    "                bought_total_amount += float(order['amount'])\n",
    "                total_buy_quantity += float(order['quantity'])   \n",
    "            elif order['type'] == 'sell':\n",
    "                sell_total_amount += float(order['amount'])\n",
    "                total_sell_quantity += float(order['quantity'])\n",
    "                \n",
    "#       узнаем НАСТРОЕНИЯ более крупных капиталов на рынке В ДАННЫЙ МЕМОНТ(В ДАННУЮ МИНУТУ, СЕКУНДУ)(сомнительная херня) \n",
    "        middle_buy_price = bought_total_amount/total_buy_quantity\n",
    "        middle_sell_price = sell_total_amount/total_sell_quantity\n",
    "        if bought_total_amount > sell_total_amount:\n",
    "            print('хотят КУПИТЬ больше на {:.2f} {} перевес в {:.9f}%'.format(bought_total_amount-sell_total_amount, CURRENCY_2,\n",
    "                                                                                                         ((bought_total_amount-sell_total_amount)/sell_total_amount)*100))\n",
    "        else:\n",
    "            print('хотят ПРОДАТЬ больше на {:.2f} {} перевес в {:.9f}%'.format(sell_total_amount-bought_total_amount, CURRENCY_2,\n",
    "                                                                                                          ((sell_total_amount-bought_total_amount)/bought_total_amount)*100))\n",
    "        middle_price = total_amount/total_quantity\n",
    "        print('Средняя цена ордеров покупки {:.2f} за {} в {}'.format(middle_buy_price,CURRENCY_1,CURRENCY_2))\n",
    "        print('Средняя цена ордеров продажи {:.2f} за {} в {}'.format(middle_sell_price,CURRENCY_1,CURRENCY_2))\n",
    "        print('средняя цена ордеров {:.2f} за {} в {}'.format(middle_price,CURRENCY_1,CURRENCY_2))\n",
    "        print('объем ордеров в {} {:.6f}'.format(CURRENCY_1,total_quantity))\n",
    "        print('Объем ордеров в {} {:.2f}'.format(CURRENCY_2,total_amount))\n",
    "        print('МАКСИМАЛЬНЫЙ ОРДЕР ПОКУПКИ {} больше среднего на {:.2f} {} или {:.4f}%'.format(max_buy_price,max_buy_price-middle_price,CURRENCY_2,((max_buy_price-middle_buy_price)/middle_buy_price)*100))\n",
    "        print('МИНИМАЛЬНЫЙ ОРДЕР ПОКУПКИ {} меньше среднего на {:.2f} {} или {:.4f}%'.format(min_buy_price,middle_price-min_buy_price,CURRENCY_2,((middle_buy_price-min_buy_price)/min_buy_price)*100))\n",
    "        print('МАКСИМАЛЬНЫЙ ОРДЕР ПРОДАЖИ {} больше среднего на {:.2f} {} или {:.4f}%'.format(max_sell_price,max_sell_price-middle_price,CURRENCY_2,((max_sell_price-middle_sell_price)/middle_sell_price)*100))\n",
    "        print('МИНИМАЛЬНЫЙ ОРДЕР ПРОДАЖИ {} меньше среднего на {:.2f} {} или {:.4f}%'.format(min_sell_price,middle_price-min_sell_price,CURRENCY_2,((middle_sell_price-min_sell_price)/min_sell_price)*100))\n",
    "now_time_orders()\n",
    "\n"
   ]
  },
  {
   "cell_type": "code",
   "execution_count": 95,
   "metadata": {},
   "outputs": [
    {
     "name": "stdout",
     "output_type": "stream",
     "text": [
      "Текущая максимальная цена покупки 573001 RUB\n",
      "Текущая минимальная цена 574844.68076234 RUB\n",
      "максальная цена сделки за 24 часа 579200 RUB\n",
      "цена последней сделки 574845.58076237\n",
      "сумма всех сделок за 24 часа 504540607.57629679\n",
      "объем всех сделок за 24 часа 877.69763648\n",
      "средняя цена сделки за 24 часа 570309.38183545\n",
      "минимальная цена сделки за 24 часа 560073 RUB\n"
     ]
    }
   ],
   "source": [
    "def get_24hours_and_now_info():\n",
    "    for string in ExmoAPI_instance.api_query('ticker').items():\n",
    "        if string[0] == CURRENCY_1+'_'+CURRENCY_2:\n",
    "            for i in string[1].items():\n",
    "                if i[0] == 'buy_price':\n",
    "                    print('Текущая максимальная цена покупки {} {}'.format(i[1],CURRENCY_2))\n",
    "                if i[0] == 'sell_price':\n",
    "                    print('Текущая минимальная цена {} {}'.format(i[1],CURRENCY_2))\n",
    "                if i[0] == 'high':\n",
    "                    print('максальная цена сделки за 24 часа {} {}'.format(i[1],CURRENCY_2))\n",
    "                if i[0] == 'low':\n",
    "                    print('минимальная цена сделки за 24 часа {} {}'.format(i[1],CURRENCY_2))\n",
    "                if i[0] == 'avg':\n",
    "                    print('средняя цена сделки за 24 часа {}'.format(i[1]))\n",
    "                if i[0] == 'vol':\n",
    "                    print('объем всех сделок за 24 часа {}'.format(i[1]))\n",
    "                if i[0] == 'vol_curr':\n",
    "                    print('сумма всех сделок за 24 часа {}'.format(i[1]))\n",
    "                if i[0] == 'last_trade':\n",
    "                    print('цена последней сделки {}'.format(i[1]))\n",
    "get_24hours_and_now_info()"
   ]
  },
  {
   "cell_type": "code",
   "execution_count": null,
   "metadata": {},
   "outputs": [],
   "source": []
  }
 ],
 "metadata": {
  "kernelspec": {
   "display_name": "Python 3",
   "language": "python",
   "name": "python3"
  },
  "language_info": {
   "codemirror_mode": {
    "name": "ipython",
    "version": 3
   },
   "file_extension": ".py",
   "mimetype": "text/x-python",
   "name": "python",
   "nbconvert_exporter": "python",
   "pygments_lexer": "ipython3",
   "version": "3.5.2"
  }
 },
 "nbformat": 4,
 "nbformat_minor": 2
}
