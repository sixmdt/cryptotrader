{
 "cells": [
  {
   "cell_type": "markdown",
   "metadata": {},
   "source": [
    "# Работа с потоками"
   ]
  },
  {
   "cell_type": "code",
   "execution_count": 1,
   "metadata": {},
   "outputs": [],
   "source": [
    "import threading\n",
    "import time\n",
    "import os"
   ]
  },
  {
   "cell_type": "code",
   "execution_count": 2,
   "metadata": {},
   "outputs": [],
   "source": [
    "# def clock(interval):\n",
    "#     while True:\n",
    "#         print(\"The time is %s\" % time.ctime())\n",
    "#         time.sleep(interval)\n",
    "# t = threading.Thread(target=clock, args=(15,))\n",
    "# t.daemon = True\n",
    "# t.start()\n",
    "\n",
    "# def printit():\n",
    "#     threading.Timer(1.0, printit).start()\n",
    "#     os.system('cls')\n",
    "#     print('Time: {0}'.format(time.ctime()))\n",
    "# printit()"
   ]
  },
  {
   "cell_type": "markdown",
   "metadata": {},
   "source": [
    "# Таймер"
   ]
  },
  {
   "cell_type": "code",
   "execution_count": 3,
   "metadata": {},
   "outputs": [],
   "source": [
    "def hello():\n",
    "    g = threading.Timer(10.0, hello)\n",
    "    g.start()\n",
    "    print('Hello in time: {}'.format(time.ctime()))"
   ]
  },
  {
   "cell_type": "code",
   "execution_count": null,
   "metadata": {},
   "outputs": [],
   "source": [
    "hello()"
   ]
  },
  {
   "cell_type": "markdown",
   "metadata": {},
   "source": [
    "# Один поток"
   ]
  },
  {
   "cell_type": "code",
   "execution_count": 4,
   "metadata": {},
   "outputs": [],
   "source": [
    "def sleeper(n, name):\n",
    "    print('Привет я {}. Собираюсь спать'.format(name))\n",
    "    time.sleep(n)\n",
    "    print('{} проснулся'.format(name))\n",
    "    "
   ]
  },
  {
   "cell_type": "code",
   "execution_count": 9,
   "metadata": {
    "scrolled": true
   },
   "outputs": [
    {
     "name": "stdout",
     "output_type": "stream",
     "text": [
      "Привет я Thread1. Собираюсь спать\n",
      "Thread1 проснулся\n",
      "Hello\n"
     ]
    }
   ],
   "source": [
    "t = threading.Thread(target=sleeper, name='Thread1', args=(5,'Thread1'))\n",
    "t.start()\n",
    "t.join() # ждать когда выполнится поток и после выполнять поток main\n",
    "print('Hello')"
   ]
  },
  {
   "cell_type": "markdown",
   "metadata": {},
   "source": [
    "# Многопоточность"
   ]
  },
  {
   "cell_type": "markdown",
   "metadata": {},
   "source": [
    "## Параллельно"
   ]
  },
  {
   "cell_type": "code",
   "execution_count": 14,
   "metadata": {},
   "outputs": [],
   "source": [
    "thread_list = []\n",
    "start = time.time()"
   ]
  },
  {
   "cell_type": "code",
   "execution_count": 15,
   "metadata": {},
   "outputs": [
    {
     "name": "stdout",
     "output_type": "stream",
     "text": [
      "Привет я thread0. Собираюсь спать\n",
      "thread0 has started\n",
      "Привет я thread1. Собираюсь спатьthread1 has started\n",
      "\n",
      "Привет я thread2. Собираюсь спать\n",
      "thread2 has started\n",
      "Привет я thread3. Собираюсь спатьthread3 has started\n",
      "\n",
      "Привет я thread4. Собираюсь спатьthread4 has started\n",
      "\n"
     ]
    }
   ],
   "source": [
    "for i in range(5):\n",
    "    t = threading.Thread(target=sleeper,\n",
    "                         name='thread{}'.format(i),\n",
    "                         args=(5,'thread{}'.format(i)))\n",
    "    thread_list.append(t)\n",
    "    t.start()\n",
    "    print('{} has started'.format(t.name))    "
   ]
  },
  {
   "cell_type": "code",
   "execution_count": 16,
   "metadata": {},
   "outputs": [
    {
     "name": "stdout",
     "output_type": "stream",
     "text": [
      "thread0 проснулся\n",
      "thread1 проснулся\n",
      "thread2 проснулся\n",
      "thread3 проснулся\n",
      "thread4 проснулся\n"
     ]
    }
   ],
   "source": [
    "for t in thread_list: #завершение всех потоков\n",
    "    t.join()"
   ]
  },
  {
   "cell_type": "code",
   "execution_count": 17,
   "metadata": {},
   "outputs": [
    {
     "name": "stdout",
     "output_type": "stream",
     "text": [
      "time taken 5.364963531494141\n"
     ]
    }
   ],
   "source": [
    "end = time.time()\n",
    "print('time taken {}'.format(end-start))"
   ]
  },
  {
   "cell_type": "markdown",
   "metadata": {},
   "source": [
    "## Последовательно"
   ]
  },
  {
   "cell_type": "code",
   "execution_count": 19,
   "metadata": {
    "scrolled": true
   },
   "outputs": [
    {
     "name": "stdout",
     "output_type": "stream",
     "text": [
      "Привет я 0. Собираюсь спать\n",
      "0 проснулся\n",
      "Привет я 1. Собираюсь спать\n",
      "1 проснулся\n",
      "Привет я 2. Собираюсь спать\n",
      "2 проснулся\n",
      "Привет я 3. Собираюсь спать\n",
      "3 проснулся\n",
      "Привет я 4. Собираюсь спать\n",
      "4 проснулся\n",
      "time taken 25.003249645233154\n"
     ]
    }
   ],
   "source": [
    "start1 = time.time()\n",
    "for i in range(5):\n",
    "    sleeper(5,i)\n",
    "end1 = time.time()\n",
    "print('time taken {}'.format(end1-start1))"
   ]
  },
  {
   "cell_type": "markdown",
   "metadata": {},
   "source": [
    "# Deamon thread"
   ]
  },
  {
   "cell_type": "markdown",
   "metadata": {},
   "source": [
    "запускаются 3 потока, 2 обновляют глобальную переменную, 3 поток следит за её изменением если она привышает порог,\n",
    "то начинается бесконечный поток ожидания (демон) и из него надо выходить "
   ]
  },
  {
   "cell_type": "code",
   "execution_count": null,
   "metadata": {},
   "outputs": [],
   "source": [
    "# # работает в PyCharm, но не в notebook\n",
    "# total = 4 \n",
    "\n",
    "# def creates_item():\n",
    "#     global total\n",
    "#     for i in range(10):\n",
    "#         time.sleep(2)\n",
    "#         print('itaration {}'.format(i))\n",
    "#         total += 1 \n",
    "#     print('itarations done')\n",
    "    \n",
    "# def creates_item_2():\n",
    "#     global total\n",
    "#     for i in range(7):\n",
    "#         time.sleep(1)\n",
    "#         print('itaration {}'.format(i))\n",
    "#         total += 1 \n",
    "#     print('itarations done')\n",
    "    \n",
    "# # следит за переполнение переменной, не даёт вырасти больше 5    \n",
    "# def limits_items():\n",
    "#     global total\n",
    "#     while True:\n",
    "#         if total > 5:\n",
    "#             print('overloaded')\n",
    "#             total -= 3\n",
    "#             print('subtracted by 3')\n",
    "#         else:\n",
    "#             time.sleep(1)\n",
    "#             print('waiting..')\n",
    "            \n",
    "# creates_1 = threading.Thread(target = creates_item)\n",
    "# creates_2 = threading.Thread(target = creates_item_2)\n",
    "# limiter_3 = threading.Thread(target = limits_items, daemon=True) # deamon=True - выходит из потока при выходе в main  \n",
    "\n",
    "# if __name__ == \"__main__\":\n",
    "#     creates_1.start()\n",
    "#     creates_2.start()\n",
    "#     limiter_3.start()\n",
    "\n",
    "#     creates_1.join()\n",
    "#     creates_2.join()\n",
    "#     # limiter22.join()\n",
    "\n",
    "#     print('Finish with total{}'.format(total))"
   ]
  },
  {
   "cell_type": "markdown",
   "metadata": {},
   "source": [
    "потоки пойдут, но они не будут прерваны"
   ]
  },
  {
   "cell_type": "code",
   "execution_count": null,
   "metadata": {},
   "outputs": [],
   "source": [
    "total = 4 \n",
    "\n",
    "def creates_item():\n",
    "    global total\n",
    "    for i in range(10):\n",
    "        time.sleep(2)\n",
    "        print('itaration {}'.format(i))\n",
    "        total += 1 \n",
    "    print('itarations done')\n",
    "    \n",
    "def creates_item_2():\n",
    "    global total\n",
    "    for i in range(7):\n",
    "        time.sleep(1)\n",
    "        print('itaration {}'.format(i))\n",
    "        total += 1 \n",
    "    print('itarations done')\n",
    "    \n",
    "# следит за переполнение переменной, не даёт вырасти больше 5    \n",
    "def limits_items():\n",
    "    global total\n",
    "    while True:\n",
    "        if total > 5:\n",
    "            print('overloaded')\n",
    "            total -= 3\n",
    "            print('subtracted by 3')\n",
    "        else:\n",
    "            time.sleep(1)\n",
    "            print('waiting..')\n",
    "            \n",
    "creates_1 = threading.Thread(target = creates_item)\n",
    "creates_2 = threading.Thread(target = creates_item_2)\n",
    "limiter_3 = threading.Thread(target = limits_items, daemon=True) # deamon=True - выходит из потока при выходе в main  "
   ]
  },
  {
   "cell_type": "code",
   "execution_count": 7,
   "metadata": {
    "scrolled": true
   },
   "outputs": [],
   "source": [
    "creates_1.start()\n",
    "creates_2.start()\n",
    "limiter_3.start()\n",
    "\n",
    "creates_1.join()\n",
    "creates_2.join()\n",
    "#limiter22.join()\n",
    "\n",
    "print('Finish with total{}'.format(total))"
   ]
  },
  {
   "cell_type": "markdown",
   "metadata": {},
   "source": [
    " limiter работает в режиме демона несмотря на вывод в main и прочие прерывания\n",
    "есть метод, который поможет правильно выйти из потока"
   ]
  },
  {
   "cell_type": "code",
   "execution_count": null,
   "metadata": {},
   "outputs": [],
   "source": []
  }
 ],
 "metadata": {
  "kernelspec": {
   "display_name": "Python 3",
   "language": "python",
   "name": "python3"
  },
  "language_info": {
   "codemirror_mode": {
    "name": "ipython",
    "version": 3
   },
   "file_extension": ".py",
   "mimetype": "text/x-python",
   "name": "python",
   "nbconvert_exporter": "python",
   "pygments_lexer": "ipython3",
   "version": "3.6.4"
  }
 },
 "nbformat": 4,
 "nbformat_minor": 2
}
