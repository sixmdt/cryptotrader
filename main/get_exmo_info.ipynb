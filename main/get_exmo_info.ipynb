{
 "cells": [
  {
   "cell_type": "code",
   "execution_count": 3,
   "metadata": {},
   "outputs": [
    {
     "data": {
      "text/plain": [
       "['',\n",
       " '/usr/lib/python35.zip',\n",
       " '/usr/lib/python3.5',\n",
       " '/usr/lib/python3.5/plat-x86_64-linux-gnu',\n",
       " '/usr/lib/python3.5/lib-dynload',\n",
       " '/usr/local/lib/python3.5/dist-packages',\n",
       " '/usr/local/lib/python3.5/dist-packages/setuptools-39.1.0-py3.5.egg',\n",
       " '/usr/lib/python3/dist-packages',\n",
       " '/usr/local/lib/python3.5/dist-packages/IPython/extensions',\n",
       " '/home/lev/.ipython']"
      ]
     },
     "execution_count": 3,
     "metadata": {},
     "output_type": "execute_result"
    }
   ],
   "source": [
    "import urllib, http.client\n",
    "import time\n",
    "import json\n",
    "# эти модули нужны для генерации подписи API\n",
    "import hmac, hashlib\n",
    "import sys\n",
    "import copy\n",
    "import pandas as pd\n",
    "import csv\n",
    "sys.path"
   ]
  },
  {
   "cell_type": "code",
   "execution_count": 4,
   "metadata": {},
   "outputs": [],
   "source": [
    "API_KEY ='K-3038939b9a19156293f232b73e6d2392c9799078'\n",
    "API_SECRET = 'S-c25c5229f8be56020bcd495c8adac52e02ff0c4a'"
   ]
  },
  {
   "cell_type": "code",
   "execution_count": 5,
   "metadata": {},
   "outputs": [],
   "source": [
    "CURRENCY_1 = 'BTC'\n",
    "CURRENCY_2 = 'RUB'\n",
    "CURRENCY_1_MIN_QUANTITY = 0.001"
   ]
  },
  {
   "cell_type": "code",
   "execution_count": 6,
   "metadata": {},
   "outputs": [],
   "source": [
    "ORDER_LIFE_TIME = 3 # минуты\n",
    "STOCK_FEE = 0.002 # комиссия == 0.2%\n",
    "AVG_PRICE_PERIOD = 90 # за какой период брать ср цену(минуты)\n",
    "CAN_SPEND = 5 # сколько тратить CUR_2 при каждой покупке CUR_1\n",
    "BLOCK_SPEND = 30  # ограничение CUR_2 на покупку\n",
    "PROFIT_MARKUP = 0.001 # прибыль в 1%\n",
    "DEBUG = True # инфа отладки\n",
    "\n",
    "STOCK_TIME_OFFSET = 0 # если время биржи расходится с нашим\n",
    "# обращение к api\n",
    "API_URL = 'api.exmo.me'\n",
    "API_VERSION = 'v1'\n",
    "\n",
    "CURRENT_PAIR = CURRENCY_1 + '_' + CURRENCY_2"
   ]
  },
  {
   "cell_type": "code",
   "execution_count": 7,
   "metadata": {},
   "outputs": [],
   "source": [
    "class ExmoAPI:\n",
    "#     тут всё понятно\n",
    "    def __init__(self, API_KEY, API_SECRET, API_URL = 'api.exmo.me', API_VERSION = 'v1'):\n",
    "        self.API_URL = API_URL\n",
    "        self.API_VERSION = API_VERSION\n",
    "        self.API_KEY = API_KEY\n",
    "        self.API_SECRET = bytes(API_SECRET, encoding='utf-8')\n",
    "        \n",
    "# Из строки payload получаем \"подпись\", хешируем с помощью секретного ключа API\n",
    "# sing - получаемый ключ, который будет отправлен на биржу для проверки\n",
    "    def sha512(self, data):\n",
    "        H = hmac.new(key = self.API_SECRET, digestmod = hashlib.sha512)\n",
    "        H.update(data.encode('utf-8'))\n",
    "        return H.hexdigest()\n",
    "    \n",
    "# Составляем словарь {ключ:значение} для отправки на биржу\n",
    "\n",
    "    def api_query(self, api_method, params = {}):\n",
    "        params['nonce'] = int(round(time.time() * 1000))\n",
    "        # Переводим словарь payload в строку, в формат для отправки через GET/POST и т.п.\n",
    "        params =  urllib.parse.urlencode(params)\n",
    "\n",
    "        sign = self.sha512(params)\n",
    "        \n",
    "        # Формируем заголовки request для отправки запроса на биржу. \n",
    "        # Передается публичный ключ API и подпись, полученная с помощью hmac\n",
    "        headers = {\n",
    "            \"Content-type\": \"application/x-www-form-urlencoded\",\n",
    "            \"Key\": self.API_KEY,\n",
    "            \"Sign\": sign\n",
    "        }\n",
    "# Создаем подключение к бирже, если в течении 60 сек не удалось подключиться, обрыв соединения    \n",
    "        conn = http.client.HTTPSConnection(self.API_URL, timeout=60)\n",
    "    # После установления связи, запрашиваем переданный адрес\n",
    "    # В заголовке запроса уходят headers, в теле - payload\n",
    "        conn.request(\"POST\", \"/\" + self.API_VERSION + \"/\" + api_method, params, headers)\n",
    "         # Получаем ответ с биржи и читаем его в переменную response\n",
    "        response = conn.getresponse().read()\n",
    "        conn.close()\n",
    "        \n",
    "        try:\n",
    "            obj = json.loads(response.decode('utf-8'))\n",
    "            # Смотрим, есть ли в полученном объекте ключ \"error\"\n",
    "            if 'error' in obj and obj['error']:\n",
    "                print(obj['error'])\n",
    "                raise sys.exit()\n",
    "            return obj\n",
    "        # Если не удалось перевести полученный ответ (вернулся не JSON)\n",
    "        except json.decoder.JSONDecodeError:\n",
    "            print('Error while parsing response:', response)\n",
    "            raise sys.exit()"
   ]
  },
  {
   "cell_type": "code",
   "execution_count": 8,
   "metadata": {},
   "outputs": [
    {
     "name": "stdout",
     "output_type": "stream",
     "text": [
      "1531745720\n"
     ]
    }
   ],
   "source": [
    "api = ExmoAPI(API_KEY, API_SECRET)\n",
    "# print(ExmoAPI_instance.api_query('user_info'))\n",
    "print(api.api_query('user_info')['server_date'])\n",
    "\n",
    "# print(ExmoAPI_instance.api_query())"
   ]
  },
  {
   "cell_type": "code",
   "execution_count": null,
   "metadata": {},
   "outputs": [],
   "source": [
    "\n"
   ]
  },
  {
   "cell_type": "code",
   "execution_count": null,
   "metadata": {},
   "outputs": [],
   "source": []
  },
  {
   "cell_type": "code",
   "execution_count": null,
   "metadata": {},
   "outputs": [],
   "source": []
  },
  {
   "cell_type": "code",
   "execution_count": null,
   "metadata": {},
   "outputs": [],
   "source": []
  },
  {
   "cell_type": "code",
   "execution_count": null,
   "metadata": {},
   "outputs": [],
   "source": []
  },
  {
   "cell_type": "code",
   "execution_count": 9,
   "metadata": {
    "scrolled": true
   },
   "outputs": [
    {
     "ename": "KeyboardInterrupt",
     "evalue": "",
     "output_type": "error",
     "traceback": [
      "\u001b[0;31m---------------------------------------------------------------------------\u001b[0m",
      "\u001b[0;31mKeyboardInterrupt\u001b[0m                         Traceback (most recent call last)",
      "\u001b[0;32m<ipython-input-9-656290aafad8>\u001b[0m in \u001b[0;36m<module>\u001b[0;34m()\u001b[0m\n\u001b[1;32m     81\u001b[0m \u001b[0;31m# цикл for заменить на while на сервере\u001b[0m\u001b[0;34m\u001b[0m\u001b[0;34m\u001b[0m\u001b[0m\n\u001b[1;32m     82\u001b[0m \u001b[0;32mwhile\u001b[0m \u001b[0;32mTrue\u001b[0m\u001b[0;34m:\u001b[0m\u001b[0;34m\u001b[0m\u001b[0m\n\u001b[0;32m---> 83\u001b[0;31m     \u001b[0mtime\u001b[0m\u001b[0;34m.\u001b[0m\u001b[0msleep\u001b[0m\u001b[0;34m(\u001b[0m\u001b[0minterval_timer\u001b[0m\u001b[0;34m)\u001b[0m \u001b[0;31m# ожидание нового интервала\u001b[0m\u001b[0;34m\u001b[0m\u001b[0m\n\u001b[0m\u001b[1;32m     84\u001b[0m     \u001b[0;32mfor\u001b[0m \u001b[0mstring\u001b[0m \u001b[0;32min\u001b[0m \u001b[0mapi\u001b[0m\u001b[0;34m.\u001b[0m\u001b[0mapi_query\u001b[0m\u001b[0;34m(\u001b[0m\u001b[0;34m'trades'\u001b[0m\u001b[0;34m,\u001b[0m\u001b[0;34m{\u001b[0m\u001b[0;34m'pair'\u001b[0m\u001b[0;34m:\u001b[0m\u001b[0mstr\u001b[0m\u001b[0;34m(\u001b[0m\u001b[0mCURRENCY_1\u001b[0m\u001b[0;34m)\u001b[0m\u001b[0;34m+\u001b[0m\u001b[0;34m'_'\u001b[0m\u001b[0;34m+\u001b[0m\u001b[0mstr\u001b[0m\u001b[0;34m(\u001b[0m\u001b[0mCURRENCY_2\u001b[0m\u001b[0;34m)\u001b[0m\u001b[0;34m,\u001b[0m\u001b[0;34m'limit'\u001b[0m\u001b[0;34m:\u001b[0m\u001b[0;36m500\u001b[0m\u001b[0;34m}\u001b[0m\u001b[0;34m)\u001b[0m\u001b[0;34m.\u001b[0m\u001b[0mitems\u001b[0m\u001b[0;34m(\u001b[0m\u001b[0;34m)\u001b[0m\u001b[0;34m:\u001b[0m\u001b[0;34m\u001b[0m\u001b[0m\n\u001b[1;32m     85\u001b[0m         \u001b[0minterval_open\u001b[0m \u001b[0;34m=\u001b[0m \u001b[0mapi\u001b[0m\u001b[0;34m.\u001b[0m\u001b[0mapi_query\u001b[0m\u001b[0;34m(\u001b[0m\u001b[0;34m'user_info'\u001b[0m\u001b[0;34m)\u001b[0m\u001b[0;34m[\u001b[0m\u001b[0;34m'server_date'\u001b[0m\u001b[0;34m]\u001b[0m \u001b[0;31m# Время на сервере сейчас\u001b[0m\u001b[0;34m\u001b[0m\u001b[0m\n",
      "\u001b[0;31mKeyboardInterrupt\u001b[0m: "
     ]
    }
   ],
   "source": [
    "trade_time ={}\n",
    "\n",
    "def create_one_interval(order):\n",
    "    interval = {}\n",
    "    interval['total_amount']=float(order['amount'])\n",
    "    interval['total_quantity']=float(order['quantity'])\n",
    "    interval['min_buy_price']=None\n",
    "    interval['min_sell_price']=None\n",
    "    interval['max_buy_price']=0\n",
    "    interval['max_sell_price']=0\n",
    "    interval['total_buy_quantity']=0\n",
    "    interval['total_sell_quantity']=0\n",
    "    interval['bought_total_amount']=0\n",
    "    interval['sell_total_amount']=0\n",
    "    interval['middle_buy_price'] = 0\n",
    "    interval['middle_sell_price'] = 0\n",
    "    interval['middle_price'] = float(order['price'])\n",
    "#     interval['ids'] = []\n",
    "#     interval['ids'].append(order['trade_id'])\n",
    "    \n",
    "    if order['type']=='buy':\n",
    "        interval['max_buy_price']=float(order['price'])\n",
    "        interval['min_buy_price']=float(order['price'])\n",
    "        interval['total_buy_quantity']=float(order['quantity'])\n",
    "        interval['bought_total_amount']=float(order['amount'])\n",
    "        interval['middle_buy_price'] = float(order['price'])\n",
    "        \n",
    "    elif order['type']=='sell':\n",
    "        interval['max_sell_price']=float(order['price'])\n",
    "        interval['min_sell_price']=float(order['price'])\n",
    "        interval['total_sell_quantity']=float(order['quantity'])\n",
    "        interval['sell_total_amount']=float(order['amount'])\n",
    "        interval['middle_sell_price'] = float(order['price'])\n",
    "    return interval\n",
    "    \n",
    "def upgrade_one_interval(order, interval):\n",
    "#     interval['ids'].append(order['trade_id'])\n",
    "    #     общее число        \n",
    "    interval['total_quantity'] += float(order['quantity'])\n",
    "    interval['total_amount'] += float(order['amount'])\n",
    "    interval['middle_price'] = interval['total_amount'] / interval['total_quantity']\n",
    "#     минимальная и максимальная цена покупки\n",
    "    if (order['type']=='buy'):\n",
    "        if float(order['price'])>interval['max_buy_price']:\n",
    "            interval['max_buy_price'] = float(order['price'])\n",
    "        if interval['min_buy_price'] == None:\n",
    "            interval['min_buy_price'] = float(order['price'])\n",
    "        elif (float(order['price'])<interval['min_buy_price']):\n",
    "            interval['min_buy_price'] = float(order['price'])\n",
    "#             общ стоимость и объем покупки\n",
    "        interval['bought_total_amount']+=float(order['amount'])\n",
    "        interval['total_buy_quantity']+=float(order['quantity'])\n",
    "        interval['middle_buy_price'] = interval['bought_total_amount']/interval['total_buy_quantity']\n",
    "#             минимальная и максимальная цена продажи\n",
    "    elif order['type']=='sell':\n",
    "        if float(order['price']) > interval['max_sell_price']:\n",
    "            interval['max_sell_price'] = float(order['price'])\n",
    "        if interval['min_sell_price'] == None:\n",
    "            interval['min_sell_price'] = float(order['price'])\n",
    "        elif float(order['price']) <interval['min_sell_price']:\n",
    "            interval['min_sell_price'] = float(order['price'])\n",
    "        interval['sell_total_amount'] += float(order['amount'])\n",
    "        interval['total_sell_quantity'] += float(order['quantity'])\n",
    "        interval['middle_sell_price'] = interval['sell_total_amount']/interval['total_sell_quantity']\n",
    "#     перевес \n",
    "    if interval['bought_total_amount']>interval['sell_total_amount']:\n",
    "        interval['pereves_val'] = interval['bought_total_amount']-interval['sell_total_amount']\n",
    "#         interval['pereves_ps'] = ((interval['bought_total_amount'] - interval['sell_total_amount'])/ interval['sell_total_amount']) * 100 \n",
    "        interval['flag'] = 1 #флаг перевеса покупки для классификации\n",
    "    elif interval['sell_total_amount'] > interval['bought_total_amount']:\n",
    "        interval['pereves_val'] = interval['sell_total_amount'] - interval['bought_total_amount']\n",
    "#         interval['pereves_ps'] = ((interval['sell_total_amount'] - interval['bought_total_amount'])/interval['bought_total_amount']) * 100\n",
    "        interval['flag'] = 0 #флаг перевеса продаж для классификации\n",
    "    #  немного статистики можнео накидать(тип в % как в выводе функции ниже)\n",
    "    return interval   \n",
    "    \n",
    "rounds = 1\n",
    "interval_timer =  900  # количество секунд в интеравле (прим 5 мин)\n",
    "limit = 30 # важный параметр - ограничение ордеров\n",
    "\n",
    "# цикл for заменить на while на сервере\n",
    "while True:\n",
    "    time.sleep(interval_timer) # ожидание нового интервала     \n",
    "    for string in api.api_query('trades',{'pair':str(CURRENCY_1)+'_'+str(CURRENCY_2),'limit':500}).items():\n",
    "        interval_open = api.api_query('user_info')['server_date'] # Время на сервере сейчас\n",
    "        interval_close = interval_open - interval_timer # Время закрытия интервала\n",
    "        for order in string[1]:\n",
    "            # Если входит в интервал\n",
    "            if order['date'] >= interval_close and order['date'] < interval_open:\n",
    "                if trade_time == {}:\n",
    "                    #Создает поля\n",
    "                    trade_time['%s' % (interval_open)] = create_one_interval(order)\n",
    "                else:\n",
    "                    # Обновляет поля\n",
    "                    trade_time['%s' % (interval_open)] = upgrade_one_interval(order,(trade_time['%s' % (interval_open)]))\n",
    "#     Подключаем открытые ордера\n",
    "\n",
    "    sell_total_amount = 0\n",
    "    sell_total_quantity = 0\n",
    "    buy_total_amount = 0\n",
    "    buy_total_quantity = 0\n",
    "    for string in api.api_query('order_book',{'pair':str(CURRENCY_1)+'_'+str(CURRENCY_2),'limit':limit}).items():\n",
    "        for order in string[1].items():\n",
    "            if order[0] == 'ask_top':\n",
    "                trade_time['%s' % (interval_open)]['ask_top'] = float(order[1])\n",
    "            if order[0] == 'bid_top':\n",
    "                trade_time['%s' % (interval_open)]['bid_top'] = float(order[1])\n",
    "            if order[0] == 'ask':\n",
    "                for i in order[1]:\n",
    "                    sell_total_amount += float(i[2])\n",
    "                    sell_total_quantity += float(i[1])\n",
    "            if order[0] == 'bid':\n",
    "                for i in order[1]:\n",
    "                    buy_total_amount += float(i[2])\n",
    "                    buy_total_quantity += float(i[1])\n",
    "        middle_sell_price = sell_total_amount / sell_total_quantity\n",
    "        middle_buy_price = buy_total_amount / buy_total_quantity\n",
    "        trade_time['%s' % (interval_open)]['book_sell_total_amount'] = sell_total_amount\n",
    "        trade_time['%s' % (interval_open)]['book_buy_total_amount'] = buy_total_amount\n",
    "        trade_time['%s' % (interval_open)]['book_sell_total_quantity'] = sell_total_quantity\n",
    "        trade_time['%s' % (interval_open)]['book_buy_total_quantity'] = buy_total_quantity\n",
    "        if sell_total_amount > buy_total_amount:\n",
    "            trade_time['%s' % (interval_open)]['book_flag'] = 0\n",
    "            trade_time['%s' % (interval_open)]['book_pereves_rub'] = sell_total_amount - buy_total_amount\n",
    "            trade_time['%s' % (interval_open)]['book_pereves_btc'] = sell_total_quantity - buy_total_quantity\n",
    "        else:\n",
    "            trade_time['%s' % (interval_open)]['book_flag'] = 1\n",
    "            trade_time['%s' % (interval_open)]['book_pereves_rub'] = buy_total_amount - sell_total_amount\n",
    "            trade_time['%s' % (interval_open)]['book_pereves_btc'] = buy_total_quantity -  sell_total_quantity   \n",
    "                \n",
    "    df = pd.DataFrame.from_dict(trade_time)\n",
    "    df = df.T\n",
    "    df.to_csv('result.csv', mode='a')    \n",
    "    df.head()"
   ]
  },
  {
   "cell_type": "code",
   "execution_count": null,
   "metadata": {},
   "outputs": [],
   "source": []
  },
  {
   "cell_type": "code",
   "execution_count": 9,
   "metadata": {},
   "outputs": [
    {
     "name": "stdout",
     "output_type": "stream",
     "text": [
      "Thu Jul 12 15:42:07 2018\n",
      "[64253565, 64253557, 64253550, 64253541, 64253458, 64253439, 64253323, 64255636, 64255609, 64255608, 64255607, 64255606, 64255591, 64255588, 64255583, 64255580, 64255579, 64255578, 64255577, 64255562, 64255561, 64255558, 64255555, 64255553, 64255540, 64255497, 64255493, 64255482, 64255481, 64255470, 64255469, 64255449, 64255365, 64255364, 64255363, 64255362, 64255361, 64255319, 64255316, 64255307, 64255301, 64255300, 64255268, 64255263, 64255198, 64255197, 64255196, 64255186, 64255166, 64255128, 64255127, 64255126, 64255125, 64255124, 64255123, 64255122, 64255093, 64255049, 64255014, 64254883, 64254853, 64254844, 64254843, 64254842, 64254841, 64254840, 64254839, 64254838, 64254764, 64254728, 64254608, 64254595, 64254509, 64254508, 64254507, 64254438, 64254358, 64254351, 64254346, 64254333, 64254327, 64254322, 64254321, 64254299, 64254202, 64254143, 64254129, 64254078, 64254025, 64253996, 64253981, 64253950, 64253866, 64253864, 64253852, 64253741, 64253680, 64253676, 64253669, 64253628]\n",
      "-------\n",
      "Thu Jul 12 16:13:52 2018\n",
      "[64254883, 64254853, 64254844, 64254843, 64254842, 64254841, 64254840, 64254839, 64254838, 64254764, 64254728, 64254608, 64254595, 64254509, 64254508, 64254507, 64254438, 64254358, 64254351, 64254346, 64254333, 64254327, 64254322, 64254321, 64254299, 64254202]\n",
      "-------\n",
      "Thu Jul 12 16:45:10 2018\n",
      "[64255636, 64255609, 64255608, 64255607, 64255606, 64255591, 64255588, 64255583, 64255580, 64255579, 64255578, 64255577, 64255562, 64255561, 64255558, 64255555, 64255553, 64255540, 64255497, 64255493, 64255482, 64255481, 64255470, 64255469, 64255449, 64255365, 64255364, 64255363, 64255362, 64255361, 64255319, 64255316, 64255307, 64255301, 64255300]\n",
      "-------\n",
      "Thu Jul 12 15:58:23 2018\n",
      "[64254143, 64254129, 64254078, 64254025, 64253996, 64253981, 64253950, 64253866, 64253864, 64253852, 64253741, 64253680, 64253676, 64253669, 64253628]\n",
      "-------\n",
      "Thu Jul 12 16:29:55 2018\n",
      "[64255268, 64255263, 64255198, 64255197, 64255196, 64255186, 64255166, 64255128, 64255127, 64255126, 64255125, 64255124, 64255123, 64255122, 64255093, 64255049, 64255014]\n",
      "-------\n"
     ]
    }
   ],
   "source": []
  },
  {
   "cell_type": "code",
   "execution_count": null,
   "metadata": {},
   "outputs": [],
   "source": []
  },
  {
   "cell_type": "code",
   "execution_count": null,
   "metadata": {},
   "outputs": [],
   "source": []
  }
 ],
 "metadata": {
  "kernelspec": {
   "display_name": "Python 3",
   "language": "python",
   "name": "python3"
  },
  "language_info": {
   "codemirror_mode": {
    "name": "ipython",
    "version": 3
   },
   "file_extension": ".py",
   "mimetype": "text/x-python",
   "name": "python",
   "nbconvert_exporter": "python",
   "pygments_lexer": "ipython3",
   "version": "3.5.2"
  }
 },
 "nbformat": 4,
 "nbformat_minor": 2
}
