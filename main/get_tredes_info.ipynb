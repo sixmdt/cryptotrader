{
 "cells": [
  {
   "cell_type": "code",
   "execution_count": 1,
   "metadata": {},
   "outputs": [],
   "source": [
    "import urllib, http.client\n",
    "import time\n",
    "import json\n",
    "import hmac, hashlib\n",
    "import pandas as pd"
   ]
  },
  {
   "cell_type": "code",
   "execution_count": 2,
   "metadata": {},
   "outputs": [],
   "source": [
    "API_KEY ='K-3038939b9a19156293f232b73e6d2392c9799078'\n",
    "API_SECRET = 'S-c25c5229f8be56020bcd495c8adac52e02ff0c4a'"
   ]
  },
  {
   "cell_type": "code",
   "execution_count": 3,
   "metadata": {},
   "outputs": [],
   "source": [
    "CURRENCY_1 = 'BTC'\n",
    "CURRENCY_2 = 'USD'\n",
    "CURRENCY_1_MIN_QUANTITY = 0.001"
   ]
  },
  {
   "cell_type": "code",
   "execution_count": 4,
   "metadata": {},
   "outputs": [],
   "source": [
    "ORDER_LIFE_TIME = 3 # минуты\n",
    "STOCK_FEE = 0.002 # комиссия == 0.2%\n",
    "AVG_PRICE_PERIOD = 90 # за какой период брать ср цену(минуты)\n",
    "CAN_SPEND = 5 # сколько тратить CUR_2 при каждой покупке CUR_1\n",
    "BLOCK_SPEND = 30  # ограничение CUR_2 на покупку\n",
    "PROFIT_MARKUP = 0.001 # прибыль в 1%\n",
    "DEBUG = True # инфа отладки\n",
    "STOCK_TIME_OFFSET = 0 # если время биржи расходится с нашим\n",
    "\n",
    "# обращение к api\n",
    "API_URL = 'api.exmo.me'\n",
    "API_VERSION = 'v1'\n",
    "CURRENT_PAIR = CURRENCY_1 + '_' + CURRENCY_2"
   ]
  },
  {
   "cell_type": "code",
   "execution_count": 5,
   "metadata": {},
   "outputs": [],
   "source": [
    "class ExmoAPI:\n",
    "    def __init__(self, API_KEY, API_SECRET, API_URL = 'api.exmo.me', API_VERSION = 'v1'):\n",
    "        self.API_URL = API_URL\n",
    "        self.API_VERSION = API_VERSION\n",
    "        self.API_KEY = API_KEY\n",
    "        self.API_SECRET = bytes(API_SECRET, encoding='utf-8')        \n",
    "    def sha512(self, data):\n",
    "        H = hmac.new(key = self.API_SECRET, digestmod = hashlib.sha512)\n",
    "        H.update(data.encode('utf-8'))\n",
    "        return H.hexdigest()\n",
    "    def api_query(self, api_method, params = {}):\n",
    "        params['nonce'] = int(round(time.time() * 1000))\n",
    "        params =  urllib.parse.urlencode(params)\n",
    "        sign = self.sha512(params)\n",
    "        headers = {\n",
    "            \"Content-type\": \"application/x-www-form-urlencoded\",\n",
    "            \"Key\": self.API_KEY,\n",
    "            \"Sign\": sign\n",
    "        }   \n",
    "        conn = http.client.HTTPSConnection(self.API_URL, timeout=60)\n",
    "        conn.request(\"POST\", \"/\" + self.API_VERSION + \"/\" + api_method, params, headers)\n",
    "        response = conn.getresponse().read()\n",
    "        conn.close()\n",
    "        \n",
    "        try:\n",
    "            obj = json.loads(response.decode('utf-8'))\n",
    "            if 'error' in obj and obj['error']:\n",
    "                print(obj['error'])\n",
    "                raise sys.exit()\n",
    "            return obj\n",
    "        except json.decoder.JSONDecodeError:\n",
    "            print('Error while parsing response:', response)\n",
    "            raise sys.exit()"
   ]
  },
  {
   "cell_type": "code",
   "execution_count": 6,
   "metadata": {},
   "outputs": [
    {
     "name": "stdout",
     "output_type": "stream",
     "text": [
      "('uid', 1421646)\n",
      "('server_date', 1530938219)\n",
      "('balances', {'USD': '0', 'EUR': '0', 'RUB': '74', 'PLN': '0', 'UAH': '0', 'BTC': '0', 'LTC': '0', 'DOGE': '0', 'DASH': '0', 'ETH': '0', 'WAVES': '0', 'ZEC': '0', 'USDT': '0', 'XMR': '0', 'XRP': '0', 'KICK': '0', 'ETC': '0', 'BCH': '0', 'BTG': '0', 'EOS': '0', 'HBZ': '0', 'BTCZ': '0', 'DXT': '0', 'STQ': '0', 'XLM': '0'})\n",
      "('reserved', {'USD': '0', 'EUR': '0', 'RUB': '20', 'PLN': '0', 'UAH': '0', 'BTC': '0', 'LTC': '0', 'DOGE': '0', 'DASH': '0', 'ETH': '0', 'WAVES': '0', 'ZEC': '0', 'USDT': '0', 'XMR': '0', 'XRP': '0', 'KICK': '0', 'ETC': '0', 'BCH': '0', 'BTG': '0', 'EOS': '0', 'HBZ': '0', 'BTCZ': '0', 'DXT': '0', 'STQ': '0', 'XLM': '0'})\n"
     ]
    }
   ],
   "source": [
    "api = ExmoAPI(API_KEY, API_SECRET)\n",
    "for i in api.api_query('user_info').items():\n",
    "    print(i)"
   ]
  },
  {
   "cell_type": "markdown",
   "metadata": {},
   "source": [
    "# Get closed trades "
   ]
  },
  {
   "cell_type": "markdown",
   "metadata": {},
   "source": [
    "'amount': '68.97540322', <br>\n",
    "'date': 'Jun|28|14:11:16|2018',<br>\n",
    "'price': '6102.30069999',<br>\n",
    "'quantity': '0.01130318',<br>\n",
    "'trade_id': 63463481,<br>\n",
    "'type': 'buy',<br>"
   ]
  },
  {
   "cell_type": "code",
   "execution_count": 7,
   "metadata": {},
   "outputs": [],
   "source": [
    "large_pac = 10000\n",
    "small_pac = 1000"
   ]
  },
  {
   "cell_type": "code",
   "execution_count": 8,
   "metadata": {},
   "outputs": [],
   "source": [
    "def get_trades(l):\n",
    "    trades = api.api_query('trades',\n",
    "        {'pair':str(CURRENCY_1)+'_'+str(CURRENCY_2), 'limit':l}).items()\n",
    "    trades_ = []\n",
    "    for i in trades:\n",
    "        trades_.append(i)\n",
    "        \n",
    "    trades = trades_[0][1]\n",
    "    \n",
    "    '''\n",
    "    for i in range(0, len(trades)):\n",
    "        t_d = time.ctime(trades[i].get('date')).split(' ')[1::]\n",
    "        trades[i]['date'] = '|'.join(t_d)\n",
    "    '''\n",
    "    \n",
    "    return trades[::-1] # traeds по времени 0 - старое, -1 - последнее новое"
   ]
  },
  {
   "cell_type": "code",
   "execution_count": 9,
   "metadata": {},
   "outputs": [],
   "source": [
    "#метод объединения основного пакета с новым \n",
    "def unite_pacs():\n",
    "    rotate_array = []\n",
    "    for i in range(1, len(mid_pac)):\n",
    "        if main_trades[-1].get('date') < mid_pac[-i].get('date'):\n",
    "            rotate_array.append(mid_pac[-i]) \n",
    "\n",
    "    for a in rotate_array[::-1]:\n",
    "        main_trades.append(a)\n",
    "\n",
    "    del rotate_array"
   ]
  },
  {
   "cell_type": "code",
   "execution_count": 19,
   "metadata": {},
   "outputs": [],
   "source": [
    "#получаем основной пакет 10к записей \n",
    "main_trades = get_trades(100000) "
   ]
  },
  {
   "cell_type": "code",
   "execution_count": 20,
   "metadata": {},
   "outputs": [],
   "source": [
    "#пакет, который обновит  основной при вызве его через интервал и вызове метода unite_pacs()\n",
    "mid_pac = get_trades(50)"
   ]
  },
  {
   "cell_type": "code",
   "execution_count": 21,
   "metadata": {},
   "outputs": [
    {
     "name": "stdout",
     "output_type": "stream",
     "text": [
      "Sat Jul  7 14:39:25 2018\n",
      "49\n"
     ]
    }
   ],
   "source": [
    "# последняя в главном списке  \n",
    "print(time.ctime(main_trades[-1].get('date')))\n",
    "\n",
    "#номер трейда в пакете, который обновляет -> будет добавлено 49 - num в основной пакет\n",
    "print(mid_pac.index(main_trades[-1]))"
   ]
  },
  {
   "cell_type": "code",
   "execution_count": 22,
   "metadata": {},
   "outputs": [],
   "source": [
    "# добавляем обновленные трейды\n",
    "unite_pacs()"
   ]
  },
  {
   "cell_type": "code",
   "execution_count": 23,
   "metadata": {},
   "outputs": [
    {
     "data": {
      "text/plain": [
       "10000"
      ]
     },
     "execution_count": 23,
     "metadata": {},
     "output_type": "execute_result"
    }
   ],
   "source": [
    "len(main_trades)"
   ]
  },
  {
   "cell_type": "markdown",
   "metadata": {},
   "source": [
    "# 30 min info"
   ]
  },
  {
   "cell_type": "code",
   "execution_count": 24,
   "metadata": {},
   "outputs": [],
   "source": [
    "def create_one_interval(order):\n",
    "    interval = {}\n",
    "    interval['total_amount']=float(order['amount'])\n",
    "    interval['total_quantity']=float(order['quantity'])\n",
    "    interval['min_buy_price']=None\n",
    "    interval['min_sell_price']=None\n",
    "    interval['max_buy_price']=0\n",
    "    interval['max_sell_price']=0\n",
    "    interval['total_buy_quantity']=0\n",
    "    interval['total_sell_quantity']=0\n",
    "    interval['bought_total_amount']=0\n",
    "    interval['sell_total_amount']=0\n",
    "    interval['middle_buy_price'] = 0\n",
    "    interval['middle_sell_price'] = 0\n",
    "    interval['middle_price'] = float(order['price'])\n",
    "    \n",
    "    if order['type']=='buy':\n",
    "        interval['max_buy_price']=float(order['price'])\n",
    "        interval['min_buy_price']=float(order['price'])\n",
    "        interval['total_buy_quantity']=float(order['quantity'])\n",
    "        interval['bought_total_amount']=float(order['amount'])\n",
    "        interval['middle_buy_price'] = float(order['price'])\n",
    "        \n",
    "    elif order['type']=='sell':\n",
    "        interval['max_sell_price']=float(order['price'])\n",
    "        interval['min_sell_price']=float(order['price'])\n",
    "        interval['total_sell_quantity']=float(order['quantity'])\n",
    "        interval['sell_total_amount']=float(order['amount'])\n",
    "        interval['middle_sell_price'] = float(order['price'])\n",
    "    return interval\n",
    "    \n",
    "def upgrade_one_interval(order, interval):\n",
    "    #     общее число        \n",
    "    interval['total_quantity'] += float(order['quantity'])\n",
    "    interval['total_amount'] += float(order['amount'])\n",
    "    interval['middle_price'] = interval['total_amount'] / interval['total_quantity']\n",
    "#     минимальная и максимальная цена покупки\n",
    "    if (order['type']=='buy'):\n",
    "        if float(order['price'])>interval['max_buy_price']:\n",
    "            interval['max_buy_price'] = float(order['price'])\n",
    "        if interval['min_buy_price'] == None:\n",
    "            interval['min_buy_price'] = float(order['price'])\n",
    "        elif (float(order['price'])<interval['min_buy_price']):\n",
    "            interval['min_buy_price'] = float(order['price'])\n",
    "#             общ стоимость и объем покупки\n",
    "        interval['bought_total_amount']+=float(order['amount'])\n",
    "        interval['total_buy_quantity']+=float(order['quantity'])\n",
    "        interval['middle_buy_price'] = interval['bought_total_amount']/interval['total_buy_quantity']\n",
    "#             минимальная и максимальная цена продажи\n",
    "    elif order['type']=='sell':\n",
    "        if float(order['price']) > interval['max_sell_price']:\n",
    "            interval['max_sell_price'] = float(order['price'])\n",
    "        if interval['min_sell_price'] == None:\n",
    "            interval['min_sell_price'] = float(order['price'])\n",
    "        elif float(order['price']) <interval['min_sell_price']:\n",
    "            interval['min_sell_price'] = float(order['price'])\n",
    "        interval['sell_total_amount'] += float(order['amount'])\n",
    "        interval['total_sell_quantity'] += float(order['quantity'])\n",
    "        interval['middle_sell_price'] = interval['sell_total_amount']/interval['total_sell_quantity']\n",
    "#     перевес \n",
    "    if interval['bought_total_amount']>interval['sell_total_amount']:\n",
    "        interval['pereves_val'] = interval['bought_total_amount']-interval['sell_total_amount']\n",
    "#         interval['pereves_ps'] = ((interval['bought_total_amount'] - interval['sell_total_amount'])/ interval['sell_total_amount']) * 100 \n",
    "        interval['flag'] = 1 #флаг перевеса покупки для классификации\n",
    "    elif interval['sell_total_amount'] > interval['bought_total_amount']:\n",
    "        interval['pereves_val'] = interval['sell_total_amount'] - interval['bought_total_amount']\n",
    "#         interval['pereves_ps'] = ((interval['sell_total_amount'] - interval['bought_total_amount'])/interval['bought_total_amount']) * 100\n",
    "        interval['flag'] = 0 #флаг перевеса продаж для классификации\n",
    "    #  немного статистики можнео накидать(тип в % как в выводе функции ниже)\n",
    "    return interval"
   ]
  },
  {
   "cell_type": "code",
   "execution_count": 25,
   "metadata": {},
   "outputs": [],
   "source": [
    "trade_time = {}\n",
    "\n",
    "for order in main_trades[::-1]:\n",
    "    # если пустой, создаём и назначаем минимальное время\n",
    "    if trade_time == {}:\n",
    "        trade_time['%s' % (order['date'])] = create_one_interval(order)\n",
    "        min_key = order['date']\n",
    "    #иначе добавляем\n",
    "    else:\n",
    "        #ищем минимальный ключ\n",
    "        for i in trade_time.keys():\n",
    "            if int(i) < min_key:\n",
    "                min_key = int(i)\n",
    "        #если время ордера не входит в промежуток, то создаём новый\n",
    "        if (min_key - int(order['date'])) > 900:\n",
    "            trade_time['%s' %(order['date'])] = create_one_interval(order)\n",
    "        #если нет, то обновляем старый\n",
    "        else:\n",
    "            trade_time[str(min_key)] = upgrade_one_interval(order,(trade_time[str(min_key)]))\n"
   ]
  },
  {
   "cell_type": "code",
   "execution_count": 26,
   "metadata": {},
   "outputs": [
    {
     "name": "stdout",
     "output_type": "stream",
     "text": [
      "213\n"
     ]
    }
   ],
   "source": [
    "df = pd.DataFrame.from_dict(trade_time)\n",
    "df = df.T\n",
    "print(len(trade_time))"
   ]
  },
  {
   "cell_type": "code",
   "execution_count": null,
   "metadata": {},
   "outputs": [],
   "source": []
  }
 ],
 "metadata": {
  "kernelspec": {
   "display_name": "Python 3",
   "language": "python",
   "name": "python3"
  },
  "language_info": {
   "codemirror_mode": {
    "name": "ipython",
    "version": 3
   },
   "file_extension": ".py",
   "mimetype": "text/x-python",
   "name": "python",
   "nbconvert_exporter": "python",
   "pygments_lexer": "ipython3",
   "version": "3.6.4"
  }
 },
 "nbformat": 4,
 "nbformat_minor": 2
}
