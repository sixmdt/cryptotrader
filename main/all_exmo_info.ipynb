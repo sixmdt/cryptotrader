{
 "cells": [
  {
   "cell_type": "code",
   "execution_count": null,
   "metadata": {},
   "outputs": [],
   "source": [
    "import urllib, http.client\n",
    "import time\n",
    "import json\n",
    "# эти модули нужны для генерации подписи API\n",
    "import hmac, hashlib\n",
    "import sys\n",
    "import copy\n",
    "import pandas as pd\n",
    "import csv\n",
    "sys.path"
   ]
  },
  {
   "cell_type": "code",
   "execution_count": null,
   "metadata": {},
   "outputs": [],
   "source": [
    "API_KEY ='K-3038939b9a19156293f232b73e6d2392c9799078'\n",
    "API_SECRET = 'S-c25c5229f8be56020bcd495c8adac52e02ff0c4a'"
   ]
  },
  {
   "cell_type": "code",
   "execution_count": null,
   "metadata": {},
   "outputs": [],
   "source": [
    "CURRENCY_1 = 'BTC'\n",
    "CURRENCY_2 = 'RUB'\n",
    "CURRENCY_1_MIN_QUANTITY = 0.001"
   ]
  },
  {
   "cell_type": "code",
   "execution_count": null,
   "metadata": {},
   "outputs": [],
   "source": [
    "ORDER_LIFE_TIME = 3 # минуты\n",
    "STOCK_FEE = 0.002 # комиссия == 0.2%\n",
    "AVG_PRICE_PERIOD = 90 # за какой период брать ср цену(минуты)\n",
    "CAN_SPEND = 5 # сколько тратить CUR_2 при каждой покупке CUR_1\n",
    "BLOCK_SPEND = 30  # ограничение CUR_2 на покупку\n",
    "PROFIT_MARKUP = 0.001 # прибыль в 1%\n",
    "DEBUG = True # инфа отладки\n",
    "\n",
    "STOCK_TIME_OFFSET = 0 # если время биржи расходится с нашим\n",
    "# обращение к api\n",
    "API_URL = 'api.exmo.me'\n",
    "API_VERSION = 'v1'\n",
    "\n",
    "CURRENT_PAIR = CURRENCY_1 + '_' + CURRENCY_2"
   ]
  },
  {
   "cell_type": "code",
   "execution_count": null,
   "metadata": {},
   "outputs": [],
   "source": [
    "class ExmoAPI:\n",
    "#     тут всё понятно\n",
    "    def __init__(self, API_KEY, API_SECRET, API_URL = 'api.exmo.me', API_VERSION = 'v1'):\n",
    "        self.API_URL = API_URL\n",
    "        self.API_VERSION = API_VERSION\n",
    "        self.API_KEY = API_KEY\n",
    "        self.API_SECRET = bytes(API_SECRET, encoding='utf-8')\n",
    "        \n",
    "# Из строки payload получаем \"подпись\", хешируем с помощью секретного ключа API\n",
    "# sing - получаемый ключ, который будет отправлен на биржу для проверки\n",
    "    def sha512(self, data):\n",
    "        H = hmac.new(key = self.API_SECRET, digestmod = hashlib.sha512)\n",
    "        H.update(data.encode('utf-8'))\n",
    "        return H.hexdigest()\n",
    "    \n",
    "# Составляем словарь {ключ:значение} для отправки на биржу\n",
    "\n",
    "    def api_query(self, api_method, params = {}):\n",
    "        params['nonce'] = int(round(time.time() * 1000))\n",
    "        # Переводим словарь payload в строку, в формат для отправки через GET/POST и т.п.\n",
    "        params =  urllib.parse.urlencode(params)\n",
    "\n",
    "        sign = self.sha512(params)\n",
    "        \n",
    "        # Формируем заголовки request для отправки запроса на биржу. \n",
    "        # Передается публичный ключ API и подпись, полученная с помощью hmac\n",
    "        headers = {\n",
    "            \"Content-type\": \"application/x-www-form-urlencoded\",\n",
    "            \"Key\": self.API_KEY,\n",
    "            \"Sign\": sign\n",
    "        }\n",
    "# Создаем подключение к бирже, если в течении 60 сек не удалось подключиться, обрыв соединения    \n",
    "        conn = http.client.HTTPSConnection(self.API_URL, timeout=60)\n",
    "    # После установления связи, запрашиваем переданный адрес\n",
    "    # В заголовке запроса уходят headers, в теле - payload\n",
    "        conn.request(\"POST\", \"/\" + self.API_VERSION + \"/\" + api_method, params, headers)\n",
    "         # Получаем ответ с биржи и читаем его в переменную response\n",
    "        response = conn.getresponse().read()\n",
    "        conn.close()\n",
    "        \n",
    "        try:\n",
    "            obj = json.loads(response.decode('utf-8'))\n",
    "            # Смотрим, есть ли в полученном объекте ключ \"error\"\n",
    "            if 'error' in obj and obj['error']:\n",
    "                print(obj['error'])\n",
    "                raise sys.exit()\n",
    "            return obj\n",
    "        # Если не удалось перевести полученный ответ (вернулся не JSON)\n",
    "        except json.decoder.JSONDecodeError:\n",
    "            print('Error while parsing response:', response)\n",
    "            raise sys.exit()"
   ]
  },
  {
   "cell_type": "code",
   "execution_count": null,
   "metadata": {},
   "outputs": [],
   "source": [
    "api = ExmoAPI(API_KEY, API_SECRET)\n",
    "# print(ExmoAPI_instance.api_query('user_info'))\n",
    "print(api.api_query('user_info')['server_date'])\n"
   ]
  },
  {
   "cell_type": "markdown",
   "metadata": {},
   "source": [
    "# трейды"
   ]
  },
  {
   "cell_type": "code",
   "execution_count": null,
   "metadata": {},
   "outputs": [],
   "source": [
    "def create_trades_interval(order):\n",
    "    interval = {}\n",
    "    interval['trades'] = []\n",
    "    return interval"
   ]
  },
  {
   "cell_type": "code",
   "execution_count": null,
   "metadata": {},
   "outputs": [],
   "source": [
    "def upgrade_trades_interval(order, interval):\n",
    "    interval['trades'].append(order)\n",
    "    return interval"
   ]
  },
  {
   "cell_type": "code",
   "execution_count": null,
   "metadata": {},
   "outputs": [],
   "source": [
    "interval_timer =  1000 \n",
    "limit = 700 # ограничение подгружаемых ордеров"
   ]
  },
  {
   "cell_type": "markdown",
   "metadata": {},
   "source": [
    "# ордера"
   ]
  },
  {
   "cell_type": "code",
   "execution_count": null,
   "metadata": {},
   "outputs": [],
   "source": [
    "def orders_to_interval(interval):\n",
    "    bid = []\n",
    "    ask = []\n",
    "    \n",
    "    for string in api.api_query('order_book',{'pair':str(CURRENCY_1)+'_'+str(CURRENCY_2),'limit':limit}).items():\n",
    "        for order in string[1].items():\n",
    "            if order[0] == 'ask':\n",
    "                for i in order[1]:                \n",
    "                    ask.append(i)\n",
    "            elif order[0] == 'bid':\n",
    "                for i in order[1]:\n",
    "                    bid.append(i)\n",
    "    \n",
    "    interval['ask_orders'] = ask\n",
    "    interval['bid_orders'] = bid\n",
    "    \n",
    "    return interval\n",
    "    "
   ]
  },
  {
   "cell_type": "markdown",
   "metadata": {},
   "source": [
    "# запись"
   ]
  },
  {
   "cell_type": "code",
   "execution_count": null,
   "metadata": {},
   "outputs": [],
   "source": [
    "trade_time = {}\n",
    "\n",
    "while True:\n",
    "    time.sleep(interval_timer) # ожидание нового интервала\n",
    "    for string in api.api_query('trades',{'pair':str(CURRENCY_1)+'_'+str(CURRENCY_2),'limit':500}).items():\n",
    "        interval_open = api.api_query('user_info')['server_date'] # Время на сервере сейчас\n",
    "        interval_close = interval_open - interval_timer # Время закрытия интервала\n",
    "        for order in string[1]:\n",
    "            # Если входит в интервал\n",
    "            if order['date'] >= interval_close and order['date'] < interval_open:                \n",
    "                if trade_time == {}:\n",
    "                    #Создает поля\n",
    "                    trade_time['%s' % (interval_open)] = create_one_interval(order)\n",
    "                else:\n",
    "                    # Обновляет поля\n",
    "                    trade_time['%s' % (interval_open)] = upgrade_one_interval(order,(trade_time['%s' % (interval_open)]))\n",
    "                    \n",
    "#     подключаем ордера\n",
    "    orders_to_interval(trade_time['%s' % (interval_open)])\n",
    "        \n",
    "#     запись в файл\n",
    "    df = pd.DataFrame.from_dict(trade_time)\n",
    "    df = df.T\n",
    "    df.to_csv('result.csv',mode='a')\n",
    "    trade_time = {} \n",
    "    "
   ]
  },
  {
   "cell_type": "code",
   "execution_count": null,
   "metadata": {},
   "outputs": [],
   "source": []
  }
 ],
 "metadata": {
  "kernelspec": {
   "display_name": "Python 3",
   "language": "python",
   "name": "python3"
  },
  "language_info": {
   "codemirror_mode": {
    "name": "ipython",
    "version": 3
   },
   "file_extension": ".py",
   "mimetype": "text/x-python",
   "name": "python",
   "nbconvert_exporter": "python",
   "pygments_lexer": "ipython3",
   "version": "3.5.2"
  }
 },
 "nbformat": 4,
 "nbformat_minor": 2
}
