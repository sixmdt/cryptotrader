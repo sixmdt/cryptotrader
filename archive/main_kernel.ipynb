{
 "cells": [
  {
   "cell_type": "code",
   "execution_count": 1,
   "metadata": {},
   "outputs": [],
   "source": [
    "import json\n",
    "import os\n",
    "import threading\n",
    "from kucoin.client import Client "
   ]
  },
  {
   "cell_type": "markdown",
   "metadata": {},
   "source": [
    "## Подключаемся к API Kucoin "
   ]
  },
  {
   "cell_type": "code",
   "execution_count": 2,
   "metadata": {},
   "outputs": [],
   "source": [
    "########### Credentials #################\n",
    "api_key = \"5aeae67ca57c577d638dbf04\"\n",
    "api_secret = \"9863be4a-c2a9-4fcd-8fdb-f9f665968145\"\n",
    "client = Client(api_key, api_secret)"
   ]
  },
  {
   "cell_type": "markdown",
   "metadata": {},
   "source": [
    "## Просмотр в реальном времени котировок "
   ]
  },
  {
   "cell_type": "code",
   "execution_count": 3,
   "metadata": {},
   "outputs": [],
   "source": [
    "########### Currency Update Function #############\n",
    "#Timer Setup\n",
    "def printit():\n",
    "    threading.Timer(1.0, printit).start()\n",
    "    pull = client.get_tick()\n",
    "    coinType = pull[0]['coinType']   #Gets Coin Type(Name)\n",
    "    buyPrice = pull[0]['buy']        #Gets Buy Price\n",
    "    sellPrice = pull[0]['sell']      #Sell Price\n",
    "    changerate = pull[0]['changeRate'] #Change Rate\n",
    "    change = pull[0]['change']       #Change Price \n",
    "    high = pull[0]['high']           #Change Daily High \n",
    "    low = pull[0]['low']             #Change Daily Low\n",
    "    print('Coin: {0}'.format(coinType))\n",
    "    print('Bitcoin BUYPRICE:  ${0}'.format(buyPrice))\n",
    "    print('Bitcoin SELLPRICE: ${0}'.format(sellPrice))\n",
    "    print('Changerate:        ${0}'.format(changerate))\n",
    "    print('Daily Change:      ${0}'.format(change))\n",
    "    print('High:              ${0}'.format(high))\n",
    "    print('Low:               ${0}'.format(low))"
   ]
  },
  {
   "cell_type": "code",
   "execution_count": 4,
   "metadata": {},
   "outputs": [],
   "source": [
    "#printit()"
   ]
  },
  {
   "cell_type": "markdown",
   "metadata": {},
   "source": [
    "## Продажа/покупка"
   ]
  },
  {
   "cell_type": "code",
   "execution_count": null,
   "metadata": {},
   "outputs": [],
   "source": []
  }
 ],
 "metadata": {
  "kernelspec": {
   "display_name": "Python 3",
   "language": "python",
   "name": "python3"
  },
  "language_info": {
   "codemirror_mode": {
    "name": "ipython",
    "version": 3
   },
   "file_extension": ".py",
   "mimetype": "text/x-python",
   "name": "python",
   "nbconvert_exporter": "python",
   "pygments_lexer": "ipython3",
   "version": "3.6.4"
  }
 },
 "nbformat": 4,
 "nbformat_minor": 2
}
