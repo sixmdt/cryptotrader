{
 "cells": [
  {
   "cell_type": "code",
   "execution_count": 1,
   "metadata": {},
   "outputs": [],
   "source": [
    "import urllib, http.client\n",
    "import time\n",
    "import json\n",
    "import hmac, hashlib"
   ]
  },
  {
   "cell_type": "code",
   "execution_count": 2,
   "metadata": {},
   "outputs": [],
   "source": [
    "API_KEY ='K-3038939b9a19156293f232b73e6d2392c9799078'\n",
    "API_SECRET = 'S-c25c5229f8be56020bcd495c8adac52e02ff0c4a'"
   ]
  },
  {
   "cell_type": "code",
   "execution_count": 4,
   "metadata": {},
   "outputs": [],
   "source": [
    "CURRENCY_1 = 'BTC'\n",
    "CURRENCY_2 = 'USD'\n",
    "CURRENCY_1_MIN_QUANTITY = 0.001"
   ]
  },
  {
   "cell_type": "code",
   "execution_count": 5,
   "metadata": {},
   "outputs": [],
   "source": [
    "ORDER_LIFE_TIME = 3 # минуты\n",
    "STOCK_FEE = 0.002 # комиссия == 0.2%\n",
    "AVG_PRICE_PERIOD = 90 # за какой период брать ср цену(минуты)\n",
    "CAN_SPEND = 5 # сколько тратить CUR_2 при каждой покупке CUR_1\n",
    "BLOCK_SPEND = 30  # ограничение CUR_2 на покупку\n",
    "PROFIT_MARKUP = 0.001 # прибыль в 1%\n",
    "DEBUG = True # инфа отладки\n",
    "STOCK_TIME_OFFSET = 0 # если время биржи расходится с нашим\n",
    "\n",
    "# обращение к api\n",
    "API_URL = 'api.exmo.me'\n",
    "API_VERSION = 'v1'\n",
    "CURRENT_PAIR = CURRENCY_1 + '_' + CURRENCY_2"
   ]
  },
  {
   "cell_type": "code",
   "execution_count": 6,
   "metadata": {},
   "outputs": [],
   "source": [
    "class ExmoAPI:\n",
    "    def __init__(self, API_KEY, API_SECRET, API_URL = 'api.exmo.me', API_VERSION = 'v1'):\n",
    "        self.API_URL = API_URL\n",
    "        self.API_VERSION = API_VERSION\n",
    "        self.API_KEY = API_KEY\n",
    "        self.API_SECRET = bytes(API_SECRET, encoding='utf-8')        \n",
    "    def sha512(self, data):\n",
    "        H = hmac.new(key = self.API_SECRET, digestmod = hashlib.sha512)\n",
    "        H.update(data.encode('utf-8'))\n",
    "        return H.hexdigest()\n",
    "    def api_query(self, api_method, params = {}):\n",
    "        params['nonce'] = int(round(time.time() * 1000))\n",
    "        params =  urllib.parse.urlencode(params)\n",
    "        sign = self.sha512(params)\n",
    "        headers = {\n",
    "            \"Content-type\": \"application/x-www-form-urlencoded\",\n",
    "            \"Key\": self.API_KEY,\n",
    "            \"Sign\": sign\n",
    "        }   \n",
    "        conn = http.client.HTTPSConnection(self.API_URL, timeout=60)\n",
    "        conn.request(\"POST\", \"/\" + self.API_VERSION + \"/\" + api_method, params, headers)\n",
    "        response = conn.getresponse().read()\n",
    "        conn.close()\n",
    "        \n",
    "        try:\n",
    "            obj = json.loads(response.decode('utf-8'))\n",
    "            if 'error' in obj and obj['error']:\n",
    "                print(obj['error'])\n",
    "                raise sys.exit()\n",
    "            return obj\n",
    "        except json.decoder.JSONDecodeError:\n",
    "            print('Error while parsing response:', response)\n",
    "            raise sys.exit()"
   ]
  },
  {
   "cell_type": "code",
   "execution_count": 7,
   "metadata": {},
   "outputs": [
    {
     "name": "stdout",
     "output_type": "stream",
     "text": [
      "('uid', 1421646)\n",
      "('server_date', 1530158845)\n",
      "('balances', {'USD': '0', 'EUR': '0', 'RUB': '74', 'PLN': '0', 'UAH': '0', 'BTC': '0', 'LTC': '0', 'DOGE': '0', 'DASH': '0', 'ETH': '0', 'WAVES': '0', 'ZEC': '0', 'USDT': '0', 'XMR': '0', 'XRP': '0', 'KICK': '0', 'ETC': '0', 'BCH': '0', 'BTG': '0', 'EOS': '0', 'HBZ': '0', 'BTCZ': '0', 'DXT': '0'})\n",
      "('reserved', {'USD': '0', 'EUR': '0', 'RUB': '20', 'PLN': '0', 'UAH': '0', 'BTC': '0', 'LTC': '0', 'DOGE': '0', 'DASH': '0', 'ETH': '0', 'WAVES': '0', 'ZEC': '0', 'USDT': '0', 'XMR': '0', 'XRP': '0', 'KICK': '0', 'ETC': '0', 'BCH': '0', 'BTG': '0', 'EOS': '0', 'HBZ': '0', 'BTCZ': '0', 'DXT': '0'})\n"
     ]
    }
   ],
   "source": [
    "api = ExmoAPI(API_KEY, API_SECRET)\n",
    "for i in api.api_query('user_info').items():\n",
    "    print(i)"
   ]
  },
  {
   "cell_type": "markdown",
   "metadata": {},
   "source": [
    "# Get closed trades "
   ]
  },
  {
   "cell_type": "code",
   "execution_count": null,
   "metadata": {},
   "outputs": [],
   "source": [
    "'amount': '68.97540322',\n",
    "'date': 'Jun|28|14:11:16|2018',\n",
    "'price': '6102.30069999',\n",
    "'quantity': '0.01130318',\n",
    "'trade_id': 63463481,\n",
    "'type': 'buy'},"
   ]
  },
  {
   "cell_type": "code",
   "execution_count": 11,
   "metadata": {},
   "outputs": [],
   "source": [
    "large_pac = 10000\n",
    "small_pac = 1000"
   ]
  },
  {
   "cell_type": "code",
   "execution_count": 342,
   "metadata": {},
   "outputs": [],
   "source": [
    "def get_trades(l):\n",
    "    trades = api.api_query('trades',\n",
    "        {'pair':str(CURRENCY_1)+'_'+str(CURRENCY_2), 'limit':l}).items()\n",
    "    trades_ = []\n",
    "    for i in trades:\n",
    "        trades_.append(i)\n",
    "        \n",
    "    trades = trades_[0][1]\n",
    "    \n",
    "    '''\n",
    "    for i in range(0, len(trades)):\n",
    "        t_d = time.ctime(trades[i].get('date')).split(' ')[1::]\n",
    "        trades[i]['date'] = '|'.join(t_d)\n",
    "    '''\n",
    "    \n",
    "    return trades[::-1] # traeds по времени 0 - старое, -1 - последнее новое"
   ]
  },
  {
   "cell_type": "code",
   "execution_count": 343,
   "metadata": {},
   "outputs": [],
   "source": [
    "#метод объединения основного пакета с новым \n",
    "def unite_pacs():\n",
    "    rotate_array = []\n",
    "    for i in range(1, len(mid_pac)):\n",
    "        if main_trades[-1].get('date') < mid_pac[-i].get('date'):\n",
    "            rotate_array.append(mid_pac[-i]) \n",
    "\n",
    "    for a in rotate_array[::-1]:\n",
    "        main_trades.append(a)\n",
    "\n",
    "    del rotate_array"
   ]
  },
  {
   "cell_type": "code",
   "execution_count": 406,
   "metadata": {},
   "outputs": [],
   "source": [
    "#получаем основной пакет 10к записей \n",
    "main_trades = get_trades(100000) "
   ]
  },
  {
   "cell_type": "code",
   "execution_count": 415,
   "metadata": {},
   "outputs": [],
   "source": [
    "#пакет, который обновит  основной при вызве его через интервал и вызове метода unite_pacs()\n",
    "mid_pac = get_trades(50)"
   ]
  },
  {
   "cell_type": "code",
   "execution_count": 416,
   "metadata": {},
   "outputs": [
    {
     "name": "stdout",
     "output_type": "stream",
     "text": [
      "Thu Jun 28 17:08:18 2018\n",
      "4781\n"
     ]
    }
   ],
   "source": [
    "# последняя в главном списке  \n",
    "print(time.ctime(main_trades[-1].get('date')))\n",
    "\n",
    "#номер трейда в пакете, который обновляет -> будет добавлено 49 - num в основной пакет\n",
    "print(mid_pac.index(main_trades[-1]))"
   ]
  },
  {
   "cell_type": "code",
   "execution_count": 417,
   "metadata": {},
   "outputs": [],
   "source": [
    "# добавляем обновленные трейды\n",
    "unite_pacs()"
   ]
  },
  {
   "cell_type": "code",
   "execution_count": 418,
   "metadata": {},
   "outputs": [
    {
     "data": {
      "text/plain": [
       "10242"
      ]
     },
     "execution_count": 418,
     "metadata": {},
     "output_type": "execute_result"
    }
   ],
   "source": [
    "len(main_trades)"
   ]
  },
  {
   "cell_type": "code",
   "execution_count": null,
   "metadata": {},
   "outputs": [],
   "source": []
  }
 ],
 "metadata": {
  "kernelspec": {
   "display_name": "Python 3",
   "language": "python",
   "name": "python3"
  },
  "language_info": {
   "codemirror_mode": {
    "name": "ipython",
    "version": 3
   },
   "file_extension": ".py",
   "mimetype": "text/x-python",
   "name": "python",
   "nbconvert_exporter": "python",
   "pygments_lexer": "ipython3",
   "version": "3.6.4"
  }
 },
 "nbformat": 4,
 "nbformat_minor": 2
}
